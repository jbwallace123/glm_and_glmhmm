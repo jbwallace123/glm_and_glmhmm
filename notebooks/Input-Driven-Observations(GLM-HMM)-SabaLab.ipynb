{
 "cells": [
  {
   "cell_type": "markdown",
   "metadata": {},
   "source": [
    "# Input Driven Observations (\"GLM-HMM\")\n",
    "\n",
    "Notebook adapted from Zoe Ashwood\n",
    "\n",
    "This notebook demonstrates the \"InputDrivenObservations\" class, and illustrates its use in the context of modeling decision-making data as in Ashwood et al. (2020) ([Mice alternate between discrete strategies during perceptual\n",
    "decision-making](https://www.biorxiv.org/content/10.1101/2020.10.19.346353v1.full.pdf)).\n",
    "\n",
    "Compared to the model considered in the notebook [\"2 Input Driven HMM\"](https://github.com/lindermanlab/ssm/blob/master/notebooks/2%20Input%20Driven%20HMM.ipynb), Ashwood et al. (2020) assumes a stationary transition matrix where transition probabilities *do not* depend on external inputs. However, observation probabilities now *do* depend on external covariates according to:\n",
    "\n",
    "\n",
    "for $c \\neq C$:\n",
    "$$\n",
    "\\begin{align}\n",
    "\\Pr(y_t = c \\mid z_{t} = k, u_t, w_{kc}) = \n",
    "\\frac{\\exp\\{w_{kc}^\\mathsf{T} u_t\\}}\n",
    "{1+\\sum_{c'=1}^{C-1} \\exp\\{w_{kc'}^\\mathsf{T} u_t\\}}\n",
    "\\end{align}\n",
    "$$\n",
    "\n",
    "and for $c = C$:\n",
    "$$\n",
    "\\begin{align}\n",
    "\\Pr(y_t = c \\mid z_{t} = k, u_t, w_{kc}) = \n",
    "\\frac{1}\n",
    "{1+\\sum_{c'=1}^{C-1} \\exp\\{w_{kc'}^\\mathsf{T} u_t\\}}\n",
    "\\end{align}\n",
    "$$\n",
    "\n",
    "where $c \\in \\{1, ..., C\\}$ indicates the categorical class for the observation, $u_{t} \\in \\mathbb{R}^{M}$ is the set of input covariates, and $w_{kc} \\in \\mathbb{R}^{M}$ is the set of input weights associated with state $k$ and class $c$. These weights, along with the transition matrix and initial state probabilities, will be learned.\n",
    "\n",
    "In Ashwood et al. (2020), $C = 2$ as $y_{t}$ represents the binary choice made by an animal during a 2AFC (2-Alternative Forced Choice) task. The above equations then reduce to:\n",
    "\n",
    "$$\n",
    "\\begin{align}\n",
    "\\Pr(y_t = 0 \\mid z_{t} = k, u_t, w_{k}) = \n",
    "\\frac{\\exp\\{w_{k}^\\mathsf{T} u_t\\}}\n",
    "{1 + \\exp\\{w_{k}^\\mathsf{T} u_t\\}} = \\frac{1}\n",
    "{1 + \\exp\\{-w_{k}^\\mathsf{T} u_t\\}}.\n",
    "\\end{align}\n",
    "$$\n",
    "\n",
    "$$\n",
    "\\begin{align}\n",
    "\\Pr(y_t = 1 \\mid z_{t} = k, u_t, w_{k}) = \n",
    "\\frac{1}\n",
    "{1 + \\exp\\{w_{k}^\\mathsf{T} u_t\\}}.\n",
    "\\end{align}\n",
    "$$\n",
    "\n",
    "and only a single weight vector, $w_{k}$, is associated with each state."
   ]
  },
  {
   "cell_type": "markdown",
   "metadata": {},
   "source": [
    "## 1. Setup\n",
    "First, you must clone the `ssm` repository and install all of the dependencies. The `ssm` package we are using can be found, along with installation instructions, [here](https://github.com/lindermanlab/ssm.git). \n",
    "\n",
    "The line `import ssm` imports the package for use. Here, we have also imported a few other packages for plotting."
   ]
  },
  {
   "cell_type": "code",
   "execution_count": 1,
   "metadata": {},
   "outputs": [],
   "source": [
    "import os\n",
    "if os.path.basename(os.getcwd()) == 'notebooks':\n",
    "    os.chdir('..')\n",
    "import numpy as np\n",
    "import numpy.random as npr\n",
    "import pandas as pd\n",
    "import matplotlib.pyplot as plt\n",
    "from sklearn.model_selection import train_test_split\n",
    "from sglm import hmmUtils, utils\n",
    "import ssm\n",
    "\n",
    "npr.seed(42)"
   ]
  },
  {
   "cell_type": "markdown",
   "metadata": {},
   "source": [
    "#### 1a. Below, we will be importing the data and filtering based on any feature you would like."
   ]
  },
  {
   "cell_type": "code",
   "execution_count": 2,
   "metadata": {},
   "outputs": [
    {
     "name": "stderr",
     "output_type": "stream",
     "text": [
      "C:\\Users\\janet\\AppData\\Local\\Temp\\ipykernel_15476\\1526347576.py:1: DtypeWarning: Columns (41) have mixed types. Specify dtype option on import or set low_memory=False.\n",
      "  data_ = pd.read_csv(r'C:\\Users\\janet\\Documents\\Behavior_samp_data\\FreelyMoving_6nback_102323_wDOB_wrecordDF.csv')\n"
     ]
    }
   ],
   "source": [
    "data_ = pd.read_csv(r'C:\\Users\\janet\\Documents\\Behavior_samp_data\\FreelyMoving_6nback_102323_wDOB_wrecordDF.csv')"
   ]
  },
  {
   "cell_type": "markdown",
   "metadata": {},
   "source": [
    "##### 1a.1. Define training and testing data"
   ]
  },
  {
   "cell_type": "code",
   "execution_count": 3,
   "metadata": {},
   "outputs": [],
   "source": [
    "probs = '80-20'\n",
    "train_split = 0.8\n",
    "seed = np.random.randint(1000)\n",
    "\n",
    "filtered_data = data_[(data_['Condition'] == probs)]"
   ]
  },
  {
   "cell_type": "code",
   "execution_count": 4,
   "metadata": {},
   "outputs": [
    {
     "name": "stdout",
     "output_type": "stream",
     "text": [
      "You have 469 training sessions and 118 test sessions.\n"
     ]
    }
   ],
   "source": [
    "## Get train/test session IDs\n",
    "\n",
    "train_ids, test_ids = train_test_split(filtered_data['Session ID'].unique(), \n",
    "                                       train_size=train_split, random_state=seed)\n",
    "\n",
    "print('You have {} training sessions and {} test sessions.'.format(len(train_ids), len(test_ids)))"
   ]
  },
  {
   "cell_type": "code",
   "execution_count": 25,
   "metadata": {},
   "outputs": [
    {
     "name": "stdout",
     "output_type": "stream",
     "text": [
      "Number of unique test elements: 56\n",
      "List of unique test elements: ['AB' 'AN' 'AR' 'BB' 'BL' 'BN' 'BR' 'CB' 'CL' 'CN' 'CR' 'DB' 'DL' 'DLL'\n",
      " 'DN' 'EB' 'EL' 'EN' 'ER' 'FB' 'FN' 'FR' 'GB' 'GL' 'GN' 'GR' 'HL' 'HN'\n",
      " 'IL' 'IL2' 'IN' 'IR' 'JB' 'JL' 'JN' 'JR' 'KJM1' 'KJM11' 'KJM2' 'KJM3'\n",
      " 'KJM4' 'KJM5' 'KJM6' 'KJM62' 'KJM63' 'KJM7' 'KJM8' 'KJM9' 'MN' 'MR' 'OB'\n",
      " 'OL' 'ON' 'YB' 'YN' 'YR']\n"
     ]
    }
   ],
   "source": [
    "unique_elements = np.array([s.split('_')[0] for s in test_ids])\n",
    "\n",
    "# Count and list unique elements\n",
    "unique_test_elements_count = np.unique(unique_elements).size\n",
    "unique_test_elements_list = np.unique(unique_elements)\n",
    "\n",
    "# Print the results\n",
    "print(f\"Number of unique test elements: {unique_test_elements_count}\")\n",
    "print(f\"List of unique test elements: {unique_test_elements_list}\")"
   ]
  },
  {
   "cell_type": "code",
   "execution_count": 26,
   "metadata": {},
   "outputs": [
    {
     "name": "stdout",
     "output_type": "stream",
     "text": [
      "Number of unique train elements: 65\n",
      "List of unique train elements: ['AB' 'AN' 'AR' 'BB' 'BL' 'BN' 'BR' 'CB' 'CL' 'CN' 'CR' 'DB' 'DL' 'DLL'\n",
      " 'DN' 'EB' 'EL' 'EN' 'ER' 'FB' 'FL' 'FN' 'FR' 'GB' 'GL' 'GN' 'GR' 'HB'\n",
      " 'HL' 'HN' 'HR' 'IL' 'IN' 'IR' 'JB' 'JL' 'JN' 'JR' 'KJM1' 'KJM10' 'KJM11'\n",
      " 'KJM12' 'KJM2' 'KJM3' 'KJM4' 'KJM5' 'KJM6' 'KJM61' 'KJM62' 'KJM63' 'KJM7'\n",
      " 'KJM8' 'KJM9' 'MB' 'ML' 'MN' 'MR' 'OB' 'OL' 'ON' 'YB' 'YL' 'YN' 'YR' 'cn']\n"
     ]
    }
   ],
   "source": [
    "unique_r_elements = np.array([s.split('_')[0] for s in train_ids])\n",
    "\n",
    "# Count and list unique elements\n",
    "unique_train_elements_count = np.unique(unique_r_elements).size\n",
    "unique_train_elements_list = np.unique(unique_r_elements)\n",
    "\n",
    "# Print the results\n",
    "print(f\"Number of unique train elements: {unique_train_elements_count}\")\n",
    "print(f\"List of unique train elements: {unique_train_elements_list}\")"
   ]
  },
  {
   "cell_type": "code",
   "execution_count": 27,
   "metadata": {},
   "outputs": [
    {
     "name": "stdout",
     "output_type": "stream",
     "text": [
      "Number of overlapping elements: 55\n"
     ]
    }
   ],
   "source": [
    "# no of overlapping elements\n",
    "overlap = np.intersect1d(unique_r_elements, unique_elements)\n",
    "print(f\"Number of overlapping elements: {overlap.size}\")"
   ]
  },
  {
   "cell_type": "code",
   "execution_count": 6,
   "metadata": {},
   "outputs": [],
   "source": [
    "# Extracting specific columns and creating variables for model input\n",
    "x_cols = ['1_Port', '2_Port', '1_Reward', '2_Reward']\n",
    "y_cols = ['Reward']\n",
    "\n",
    "#columns for x and y data\n",
    "train_data_x = train_data[x_cols]\n",
    "train_data_y = train_data[y_cols]\n",
    "test_data_x = test_data[x_cols]\n",
    "test_data_y = test_data[y_cols]\n",
    "\n",
    "#number of sessions and trials\n",
    "train_data_sessions = len(train_data_x)\n",
    "test_data_sessions = len(test_data_x)\n",
    "\n",
    "train_num_sess = len(train_data['Session ID'].unique())\n",
    "test_num_sess = len(test_data['Session ID'].unique())\n",
    "\n",
    "num_trials_per_train_sess = train_data_sessions\n",
    "num_trials_per_test_sess = test_data_sessions"
   ]
  },
  {
   "cell_type": "markdown",
   "metadata": {},
   "source": [
    "## 2. Input Driven Observations\n",
    "We create a HMM with input-driven observations and 'standard' (stationary) transitions with the following line:  \n",
    "```python\n",
    "        ssm.HMM(num_states, obs_dim, input_dim, observations=\"input_driven_obs\", observation_kwargs=dict(C=num_categories), transitions=\"standard\")\n",
    "```\n",
    "\n",
    "As in Ashwood et al. (2020), we are going to model an animal's binary choice data during a decision-making task, so we will set `num_categories=2` because the animal only has two options available to it. We will also set `obs_dim = 1` because the dimensionality of the observation data is 1 (if we were also modeling, for example, the binned reaction time of the animal, we could set `obs_dim = 2`).  For the sake of simplicity, we will assume that an animal's choice in a particular state is only affected by the external stimulus associated with that particular trial, and its innate choice bias. Thus, we will set `input_dim = 2` and we will simulate input data that resembles sequences of stimuli in what follows.  In Ashwood et al. (2020), they found that many mice used 3 decision-making states when performing 2AFC tasks. We will, thus, set `num_states = 3`."
   ]
  },
  {
   "cell_type": "markdown",
   "metadata": {},
   "source": [
    "### 2a. Create external input sequences"
   ]
  },
  {
   "cell_type": "markdown",
   "metadata": {},
   "source": [
    "Simulate an example set of external inputs for each trial in a session. We will create an array of size `(num_sess x num_trials_per_sess x num_covariates)`. As in Ashwood et al. (2020), for each trial in a session we will include the stimulus presented to the animal at that trial, as well as a '1' as the second covariate (so as to capture the animal's innate bias for one of the two options available to it). We will simulate stimuli sequences so as to resemble the sequences of stimuli in the International Brain Laboratory et al. (2020) task."
   ]
  },
  {
   "cell_type": "code",
   "execution_count": null,
   "metadata": {},
   "outputs": [],
   "source": [
    "# number of latent states, adds bias \n",
    "K = 2 \n",
    "# C represents the binary choice the animal must make \n",
    "C = 2 \n",
    "# number of GLM inputs (regressors) \n",
    "D = train_data_x.shape[1] \n",
    "\n",
    "num_sess = train_num_sess # number of example sessions\n",
    "num_trials_per_sess = train_data_sessions # number of trials in a session\n",
    "inpts = np.ones((num_sess, num_trials_per_sess, K)) # initialize inpts array\n",
    "stim_vals = [0, 1]\n",
    "inpts[:,:,0] = np.random.choice(stim_vals, (num_sess, num_trials_per_sess)) # generate random sequence of stimuli\n",
    "inpts = list(inpts) #convert inpts to correct formats"
   ]
  },
  {
   "cell_type": "markdown",
   "metadata": {},
   "source": [
    "## 3. Fit GLM-HMM and perform recovery analysis"
   ]
  },
  {
   "cell_type": "markdown",
   "metadata": {},
   "source": [
    "### 3a. Maximum Likelihood Estimation"
   ]
  },
  {
   "cell_type": "markdown",
   "metadata": {},
   "source": [
    "Now we instantiate a new GLM-HMM and check that we can recover the generative parameters in simulated data:"
   ]
  },
  {
   "cell_type": "code",
   "execution_count": null,
   "metadata": {},
   "outputs": [],
   "source": [
    "# Data inputs \n",
    "choices = train_data['Decision'].to_numpy()\n",
    "choices = choices.reshape(-1, 1)\n",
    "choices = choices.astype(int)\n",
    "\n",
    "inpts = train_data_x.to_numpy()\n",
    "\n",
    "# Model Inputs\n",
    "num_states = 3 # number of discrete states\n",
    "obs_dim =  1 # number of observed dimensions, 1 for just reward, 2 if you had something like reaction time\n",
    "num_categories = 2 # number of categories for the output\n",
    "input_dim = inpts.shape[1]"
   ]
  },
  {
   "cell_type": "code",
   "execution_count": null,
   "metadata": {},
   "outputs": [],
   "source": [
    "new_glmhmm = ssm.HMM(num_states, obs_dim, input_dim, observations=\"input_driven_obs\", \n",
    "                   observation_kwargs=dict(C=num_categories), transitions=\"standard\")\n"
   ]
  },
  {
   "cell_type": "code",
   "execution_count": null,
   "metadata": {},
   "outputs": [],
   "source": [
    "N_iters = 500 # maximum number of EM iterations. Fitting with stop earlier if increase in LL is below tolerance specified by tolerance parameter\n",
    "fit_ll = new_glmhmm.fit(choices, inputs=inpts, method=\"em\", num_iters=N_iters, tolerance=10**-4)\n",
    "print(\"EM converged: \", fit_ll)"
   ]
  },
  {
   "cell_type": "code",
   "execution_count": null,
   "metadata": {},
   "outputs": [],
   "source": [
    "#fit to test data\n",
    "test_choices = test_data['Decision'].to_numpy()\n",
    "test_choices = test_choices.reshape(-1, 1)\n",
    "test_choices = test_choices.astype(int)\n",
    "\n",
    "test_inpts = test_data_x.to_numpy()\n",
    "\n",
    "test_ll = new_glmhmm.log_likelihood(test_choices, inputs=test_inpts)\n",
    "print(\"Test LL: \", test_ll)"
   ]
  },
  {
   "cell_type": "code",
   "execution_count": null,
   "metadata": {},
   "outputs": [],
   "source": [
    "# Plot the log probabilities of the train and test models. Fit model final LL should be greater \n",
    "# than or equal to true LL.\n",
    "\n",
    "fig = plt.figure(figsize=(4, 3), dpi=80, facecolor='w', edgecolor='k')\n",
    "plt.plot(fit_ll, label=\"EM\")\n",
    "plt.plot([0, len(fit_ll)], test_ll * np.ones(2), ':k', label=\"Test\")\n",
    "plt.legend(loc=\"lower right\")\n",
    "plt.xlabel(\"EM Iteration\")\n",
    "plt.xlim(0, len(fit_ll))\n",
    "plt.ylabel(\"Log Probability\")\n",
    "plt.show()"
   ]
  },
  {
   "cell_type": "markdown",
   "metadata": {},
   "source": [
    "### 3b. Posterior State Probabilities"
   ]
  },
  {
   "cell_type": "markdown",
   "metadata": {},
   "source": [
    "Let's now plot $p(z_{t} = k|\\mathbf{y}, \\{u_{t}\\}_{t=1}^{T})$, the posterior state probabilities, which give the probability of the animal being in state k at trial t."
   ]
  },
  {
   "cell_type": "code",
   "execution_count": null,
   "metadata": {},
   "outputs": [],
   "source": [
    "T = 1 #inpts.shape[0] # number of trials\n",
    "K = 3 # number of latent states\n",
    "C = 2 # number of observation classes or # C represents the binary choice the animal must make\n",
    "D = inpts.shape[1] # number of GLM inputs (regressors)\n",
    "\n",
    "# # Get expected states:\n",
    "posterior_probs = [new_glmhmm.expected_states(data=data, input=inpt)[0]\n",
    "                for data, inpt\n",
    "                in zip([choices], [inpts])]"
   ]
  },
  {
   "cell_type": "code",
   "execution_count": null,
   "metadata": {},
   "outputs": [],
   "source": [
    "trials_to_plot = (0, 100) # number of trials to plot\n",
    "\n",
    "cols = ['#ff7f00', '#4daf4a', '#377eb8']\n",
    "fig = plt.figure(figsize=(10, 2.5), dpi=80, facecolor='w', edgecolor='k')\n",
    "sess_id = 0 #session id; can choose any index between 0 and num_sess-1\n",
    "for k in range(num_states):\n",
    "    plt.plot(posterior_probs[sess_id][:, k], label=\"State \" + str(k + 1), lw=2,\n",
    "             color=cols[k])\n",
    "plt.ylim((-0.01, 1.01))\n",
    "plt.yticks([0, 0.5, 1], fontsize = 10)\n",
    "plt.xlim(trials_to_plot) \n",
    "plt.xlabel(\"trial #\", fontsize = 15)\n",
    "\n",
    "plt.ylabel(\"p(state)\", fontsize = 15)"
   ]
  },
  {
   "cell_type": "markdown",
   "metadata": {},
   "source": [
    "With these posterior state probabilities, we can assign trials to states and then plot the fractional occupancy of each state:"
   ]
  },
  {
   "cell_type": "code",
   "execution_count": null,
   "metadata": {},
   "outputs": [],
   "source": [
    "# concatenate posterior probabilities across sessions\n",
    "posterior_probs_concat = np.concatenate(posterior_probs)\n",
    "# get state with maximum posterior probability at particular trial:\n",
    "state_max_posterior = np.argmax(posterior_probs_concat, axis = 1)\n",
    "# now obtain state fractional occupancies:\n",
    "_, state_occupancies = np.unique(state_max_posterior, return_counts=True)\n",
    "state_occupancies = state_occupancies/np.sum(state_occupancies)"
   ]
  },
  {
   "cell_type": "code",
   "execution_count": null,
   "metadata": {},
   "outputs": [],
   "source": [
    "fig = plt.figure(figsize=(2, 2.5), dpi=80, facecolor='w', edgecolor='k')\n",
    "for z, occ in enumerate(state_occupancies):\n",
    "    plt.bar(z, occ, width = 0.8, color = cols[z])\n",
    "plt.ylim((0, 1))\n",
    "plt.xticks([0, 1, 2], ['1', '2', '3'], fontsize = 10)\n",
    "plt.yticks([0, 0.5, 1], ['0', '0.5', '1'], fontsize=10)\n",
    "plt.xlabel('state', fontsize = 15)\n",
    "plt.ylabel('frac. occupancy', fontsize=15)"
   ]
  },
  {
   "cell_type": "code",
   "execution_count": null,
   "metadata": {},
   "outputs": [],
   "source": [
    "model_gen_weights = new_glmhmm.observations.params\n",
    "model_gen_weights"
   ]
  },
  {
   "cell_type": "code",
   "execution_count": null,
   "metadata": {},
   "outputs": [],
   "source": [
    "filtered_data.loc[:, 'State_Occupancy'] = state_max_posterior # State_Max_Posterior contains the state for each given trial \n",
    "\n",
    "#save new csv\n",
    "#filtered_data.to_csv(r'C:\\Users\\janet\\Documents\\Behavior_samp_data\\FullMerged_2nBack_100423.csv', index=True)"
   ]
  },
  {
   "cell_type": "markdown",
   "metadata": {},
   "source": [
    "## Picking the optimal number of states - Let's loop through a list of num_states and see which one produces the highest log likelihood.\n",
    "\n",
    "We will be looping through a list of num_states and running the model on each. We will then plot the log likelihoods and see which number of states produces the highest log likelihood. Importantly, we are changing our observation to 'bernoulli', which assumes that the observations are binary. This is because we are modeling the animal's choice data, which is binary."
   ]
  },
  {
   "cell_type": "code",
   "execution_count": null,
   "metadata": {},
   "outputs": [],
   "source": [
    "probs = '80-20'\n",
    "train_split = 0.8\n",
    "seed = np.random.randint(1000)\n",
    "\n",
    "filtered_data = data_[(data_['Condition'] == probs)]\n",
    "\n",
    "## Get train/test session IDs\n",
    "\n",
    "train_ids, test_ids = train_test_split(filtered_data['Session ID'].unique(), \n",
    "                                       train_size=train_split, random_state=seed)\n",
    "\n",
    "print('You have {} training sessions and {} test sessions.'.format(len(train_ids), len(test_ids)))"
   ]
  },
  {
   "cell_type": "code",
   "execution_count": 7,
   "metadata": {},
   "outputs": [],
   "source": [
    "## Create new dataframes for train/test data\n",
    "\n",
    "train_data = filtered_data[filtered_data['Session ID'].isin(train_ids)]\n",
    "test_data = filtered_data[filtered_data['Session ID'].isin(test_ids)]"
   ]
  },
  {
   "cell_type": "code",
   "execution_count": 8,
   "metadata": {},
   "outputs": [],
   "source": [
    "# Extracting specific columns and creating variables for model input\n",
    "x_cols = ['1_Port', '2_Port', '1_Reward', '2_Reward', '3_Port', '3_Reward']\n",
    "y_cols = ['Reward']\n",
    "\n",
    "#columns for x and y data\n",
    "train_data_x = train_data[x_cols]\n",
    "train_data_y = train_data[y_cols]\n",
    "test_data_x = test_data[x_cols]\n",
    "test_data_y = test_data[y_cols]\n",
    "\n",
    "#number of sessions and trials\n",
    "train_data_sessions = len(train_data_x)\n",
    "test_data_sessions = len(test_data_x)\n",
    "\n",
    "train_num_sess = len(train_data['Session ID'].unique())\n",
    "test_num_sess = len(test_data['Session ID'].unique())\n",
    "\n",
    "num_trials_per_train_sess = train_data_sessions\n",
    "num_trials_per_test_sess = test_data_sessions"
   ]
  },
  {
   "cell_type": "code",
   "execution_count": 9,
   "metadata": {},
   "outputs": [],
   "source": [
    "# number of latent states, adds bias \n",
    "K = 3\n",
    "# C represents the binary choice the animal must make \n",
    "C = 2 \n",
    "# number of GLM inputs (regressors) \n",
    "D = train_data_x.shape[1]\n",
    "\n",
    "num_sess = train_num_sess # number of example sessions\n",
    "num_trials_per_sess = train_data_sessions # number of trials in a session\n",
    "inpts = np.ones((num_sess, num_trials_per_sess, K)) # initialize inpts array\n",
    "stim_vals = [0, 1]\n",
    "inpts[:,:,0] = np.random.choice(stim_vals, (num_sess, num_trials_per_sess)) # generate random sequence of stimuli\n",
    "inpts = list(inpts) #convert inpts to correct formats\n"
   ]
  },
  {
   "cell_type": "code",
   "execution_count": 10,
   "metadata": {},
   "outputs": [],
   "source": [
    "# Data inputs \n",
    "choices = train_data['Decision'].to_numpy()\n",
    "choices = choices.reshape(-1, 1)\n",
    "choices = choices.astype(int)\n",
    "\n",
    "inpts = train_data_x.to_numpy()\n",
    "\n",
    "\n",
    "# Model Inputs\n",
    "num_states = [1, 2, 3, 4] # number of discrete states\n",
    "obs_dim =  1 # number of observed dimensions, 1 for just reward, 2 if you had something like reaction time\n",
    "num_categories = 2 # number of categories for the output\n",
    "input_dim = inpts.shape[1]"
   ]
  },
  {
   "cell_type": "code",
   "execution_count": 11,
   "metadata": {},
   "outputs": [
    {
     "data": {
      "application/vnd.jupyter.widget-view+json": {
       "model_id": "197ca07e26f24bea9567dbd02df7c129",
       "version_major": 2,
       "version_minor": 0
      },
      "text/plain": [
       "  0%|          | 0/500 [00:00<?, ?it/s]"
      ]
     },
     "metadata": {},
     "output_type": "display_data"
    },
    {
     "data": {
      "application/vnd.jupyter.widget-view+json": {
       "model_id": "1b1a48b76d99422db989538626fd38ba",
       "version_major": 2,
       "version_minor": 0
      },
      "text/plain": [
       "  0%|          | 0/500 [00:00<?, ?it/s]"
      ]
     },
     "metadata": {},
     "output_type": "display_data"
    },
    {
     "data": {
      "application/vnd.jupyter.widget-view+json": {
       "model_id": "c2bcf50ac6b84e608f235cdf4c9413d8",
       "version_major": 2,
       "version_minor": 0
      },
      "text/plain": [
       "  0%|          | 0/500 [00:00<?, ?it/s]"
      ]
     },
     "metadata": {},
     "output_type": "display_data"
    },
    {
     "data": {
      "application/vnd.jupyter.widget-view+json": {
       "model_id": "01309d9b74714865b648f388a285cbca",
       "version_major": 2,
       "version_minor": 0
      },
      "text/plain": [
       "  0%|          | 0/500 [00:00<?, ?it/s]"
      ]
     },
     "metadata": {},
     "output_type": "display_data"
    }
   ],
   "source": [
    "test_glmhmm_list = []\n",
    "fit_ll_list = []\n",
    "for i in range(len(num_states)):\n",
    "    \n",
    "    test_glmhmm = ssm.HMM(num_states[i], obs_dim, input_dim, observations=\"bernoulli\")\n",
    "\n",
    "    N_iters = 500 # maximum number of EM iterations. Fitting with stop earlier if increase in LL is below tolerance specified by tolerance parameter\n",
    "    fit_ll = test_glmhmm.fit(choices, inputs=inpts, method=\"em\", num_iters=N_iters, tolerance=10**-4)\n",
    "    test_glmhmm_list.append(test_glmhmm)\n",
    "    fit_ll_list.append(fit_ll)\n"
   ]
  },
  {
   "cell_type": "code",
   "execution_count": 12,
   "metadata": {},
   "outputs": [
    {
     "name": "stdout",
     "output_type": "stream",
     "text": [
      "Model with 1 states has a train log likelihood of -160436.11854180222\n",
      "Model with 2 states has a train log likelihood of -96158.72869701398\n",
      "Model with 3 states has a train log likelihood of -95072.34196804417\n",
      "Model with 4 states has a train log likelihood of -94461.43609202202\n"
     ]
    }
   ],
   "source": [
    "for ii in range(len(test_glmhmm_list)):\n",
    "    print('Model with ' + str(num_states[ii]) + ' states has a train log likelihood of ' + str(test_glmhmm_list[ii].log_likelihood(choices, inputs=inpts)))"
   ]
  },
  {
   "cell_type": "code",
   "execution_count": 13,
   "metadata": {},
   "outputs": [
    {
     "name": "stdout",
     "output_type": "stream",
     "text": [
      "Model with 1 states has a test log likelihood of -40515.937760368884\n",
      "Model with 2 states has a test log likelihood of -24464.017165885634\n",
      "Model with 3 states has a test log likelihood of -24145.148394314903\n",
      "Model with 4 states has a test log likelihood of -24010.190975943584\n"
     ]
    }
   ],
   "source": [
    "#fit to test data\n",
    "test_choices = test_data['Decision'].to_numpy()\n",
    "test_choices = test_choices.reshape(-1, 1)\n",
    "test_choices = test_choices.astype(int)\n",
    "\n",
    "test_inpts = test_data_x.to_numpy()\n",
    "test_ll_list = []\n",
    "\n",
    "for ii in range(len(test_glmhmm_list)):\n",
    "    test_ll_list.append(test_glmhmm_list[ii].log_likelihood(test_choices, inputs=test_inpts))\n",
    "    print('Model with ' + str(num_states[ii]) + ' states has a test log likelihood of ' + str(test_ll_list[ii]))\n",
    "    "
   ]
  },
  {
   "cell_type": "code",
   "execution_count": 14,
   "metadata": {},
   "outputs": [
    {
     "data": {
      "image/png": "[encoded data removed]",
      "text/plain": [
       "<Figure size 800x800 with 4 Axes>"
      ]
     },
     "metadata": {},
     "output_type": "display_data"
    }
   ],
   "source": [
    "# Plot subplots of the log probabilities of the train and test models. Fit model final LL should be greater\n",
    "# than or equal to true LL.\n",
    "fig, axs = plt.subplots(2, 2, figsize=(10, 10), dpi=80, facecolor='w', edgecolor='k')\n",
    "axs = axs.ravel()\n",
    "for ii in range(len(fit_ll_list)):\n",
    "    axs[ii].plot(fit_ll_list[ii], label=\"EM\")\n",
    "    axs[ii].plot([0, len(fit_ll_list[ii])], test_ll_list[ii] * np.ones(2), ':k', label=\"Test\")\n",
    "    axs[ii].legend(loc=\"lower right\")\n",
    "    axs[ii].set_xlabel(\"EM Iteration\")\n",
    "    axs[ii].set_xlim(0, len(fit_ll_list[ii]))\n",
    "    axs[ii].set_ylabel(\"Log Probability\")\n",
    "    axs[ii].set_title('Model with ' + str(num_states[ii]) + ' states')"
   ]
  },
  {
   "cell_type": "code",
   "execution_count": 28,
   "metadata": {},
   "outputs": [],
   "source": [
    "#Convert to bits per state\n",
    "bits_per_state = []\n",
    "for ii in range(len(test_glmhmm_list)):\n",
    "    import math\n",
    "    bits_per_sess = (-(test_glmhmm_list[ii].log_likelihood(test_choices, inputs=test_inpts)-(0.5))/(num_trials_per_test_sess*np.log(2)))\n",
    "    bits_per_state.append(bits_per_sess)"
   ]
  },
  {
   "cell_type": "code",
   "execution_count": 29,
   "metadata": {},
   "outputs": [
    {
     "data": {
      "text/plain": [
       "([<matplotlib.axis.XTick at 0x228214da6d0>,\n",
       "  <matplotlib.axis.XTick at 0x228214da2b0>,\n",
       "  <matplotlib.axis.XTick at 0x228214ed580>,\n",
       "  <matplotlib.axis.XTick at 0x2282155e4c0>],\n",
       " [Text(1, 0, '1'), Text(2, 0, '2'), Text(3, 0, '3'), Text(4, 0, '4')])"
      ]
     },
     "execution_count": 29,
     "metadata": {},
     "output_type": "execute_result"
    },
    {
     "data": {
      "image/png": "[encoded data removed]",
      "text/plain": [
       "<Figure size 640x480 with 1 Axes>"
      ]
     },
     "metadata": {},
     "output_type": "display_data"
    }
   ],
   "source": [
    "#Plot bits/state\n",
    "plt.plot(num_states, bits_per_state)\n",
    "plt.scatter(num_states, bits_per_state, marker='o', color='k')\n",
    "plt.xlabel('Number of States')\n",
    "plt.ylabel('bits/trials')\n",
    "plt.xticks(num_states)"
   ]
  },
  {
   "cell_type": "markdown",
   "metadata": {},
   "source": [
    "### Plotting transition matrix: Here, we will look at the resulting transition matrix. You can select any model output from the list below to plot."
   ]
  },
  {
   "cell_type": "code",
   "execution_count": null,
   "metadata": {},
   "outputs": [],
   "source": [
    "num_states_2plot = 2\n",
    "gen_weights = test_glmhmm_list[1].observations.params #select correct model whether in list, or just test_glmhmm\n",
    "gen_trans_mat = test_glmhmm_list[1].transitions.params #select correct model whether in list, or just test_glmhmm\n",
    "\n",
    "\n",
    "# Plot generative parameters:\n",
    "fig = plt.figure(figsize=(8, 3), dpi=80, facecolor='w', edgecolor='k')\n",
    "\n",
    "plt.subplot(1, 2, 1)\n",
    "gen_trans_mat = np.exp(gen_trans_mat)[0]\n",
    "plt.imshow(gen_trans_mat, vmin=-0.8, vmax=1, cmap='bone')\n",
    "for i in range(gen_trans_mat.shape[0]):\n",
    "    for j in range(gen_trans_mat.shape[1]):\n",
    "        text = plt.text(j, i, str(np.around(gen_trans_mat[i, j], decimals=2)), ha=\"center\", va=\"center\",\n",
    "                        color=\"k\", fontsize=12)\n",
    "plt.xlim(-0.5, num_states_2plot - 0.5)\n",
    "plt.xticks(range(0, num_states_2plot), ('1', '2'), fontsize=10)\n",
    "plt.yticks(range(0, num_states_2plot), ('1', '2'), fontsize=10)\n",
    "plt.ylim(num_states_2plot - 0.5, -0.5)\n",
    "plt.ylabel(\"state t\", fontsize = 15)\n",
    "plt.xlabel(\"state t+1\", fontsize = 15)\n",
    "plt.title(\"Generative transition matrix\", fontsize = 15)"
   ]
  },
  {
   "cell_type": "code",
   "execution_count": null,
   "metadata": {},
   "outputs": [],
   "source": []
  }
 ],
 "metadata": {
  "kernelspec": {
   "display_name": "sabatini-glm",
   "language": "python",
   "name": "python3"
  },
  "language_info": {
   "codemirror_mode": {
    "name": "ipython",
    "version": 3
   },
   "file_extension": ".py",
   "mimetype": "text/x-python",
   "name": "python",
   "nbconvert_exporter": "python",
   "pygments_lexer": "ipython3",
   "version": "3.9.18"
  }
 },
 "nbformat": 4,
 "nbformat_minor": 2
}
