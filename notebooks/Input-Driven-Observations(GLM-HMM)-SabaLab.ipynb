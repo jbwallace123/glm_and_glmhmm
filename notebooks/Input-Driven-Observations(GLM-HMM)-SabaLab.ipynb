{
 "cells": [
  {
   "cell_type": "markdown",
   "metadata": {},
   "source": [
    "# Input Driven Observations (\"GLM-HMM\")\n",
    "\n",
    "Notebook adapted from Zoe Ashwood\n",
    "\n",
    "This notebook demonstrates the \"InputDrivenObservations\" class, and illustrates its use in the context of modeling decision-making data as in Ashwood et al. (2020) ([Mice alternate between discrete strategies during perceptual\n",
    "decision-making](https://www.biorxiv.org/content/10.1101/2020.10.19.346353v1.full.pdf)).\n",
    "\n",
    "Compared to the model considered in the notebook [\"2 Input Driven HMM\"](https://github.com/lindermanlab/ssm/blob/master/notebooks/2%20Input%20Driven%20HMM.ipynb), Ashwood et al. (2020) assumes a stationary transition matrix where transition probabilities *do not* depend on external inputs. However, observation probabilities now *do* depend on external covariates according to:\n",
    "\n",
    "\n",
    "for $c \\neq C$:\n",
    "$$\n",
    "\\begin{align}\n",
    "\\Pr(y_t = c \\mid z_{t} = k, u_t, w_{kc}) = \n",
    "\\frac{\\exp\\{w_{kc}^\\mathsf{T} u_t\\}}\n",
    "{1+\\sum_{c'=1}^{C-1} \\exp\\{w_{kc'}^\\mathsf{T} u_t\\}}\n",
    "\\end{align}\n",
    "$$\n",
    "\n",
    "and for $c = C$:\n",
    "$$\n",
    "\\begin{align}\n",
    "\\Pr(y_t = c \\mid z_{t} = k, u_t, w_{kc}) = \n",
    "\\frac{1}\n",
    "{1+\\sum_{c'=1}^{C-1} \\exp\\{w_{kc'}^\\mathsf{T} u_t\\}}\n",
    "\\end{align}\n",
    "$$\n",
    "\n",
    "where $c \\in \\{1, ..., C\\}$ indicates the categorical class for the observation, $u_{t} \\in \\mathbb{R}^{M}$ is the set of input covariates, and $w_{kc} \\in \\mathbb{R}^{M}$ is the set of input weights associated with state $k$ and class $c$. These weights, along with the transition matrix and initial state probabilities, will be learned.\n",
    "\n",
    "In Ashwood et al. (2020), $C = 2$ as $y_{t}$ represents the binary choice made by an animal during a 2AFC (2-Alternative Forced Choice) task. The above equations then reduce to:\n",
    "\n",
    "$$\n",
    "\\begin{align}\n",
    "\\Pr(y_t = 0 \\mid z_{t} = k, u_t, w_{k}) = \n",
    "\\frac{\\exp\\{w_{k}^\\mathsf{T} u_t\\}}\n",
    "{1 + \\exp\\{w_{k}^\\mathsf{T} u_t\\}} = \\frac{1}\n",
    "{1 + \\exp\\{-w_{k}^\\mathsf{T} u_t\\}}.\n",
    "\\end{align}\n",
    "$$\n",
    "\n",
    "$$\n",
    "\\begin{align}\n",
    "\\Pr(y_t = 1 \\mid z_{t} = k, u_t, w_{k}) = \n",
    "\\frac{1}\n",
    "{1 + \\exp\\{w_{k}^\\mathsf{T} u_t\\}}.\n",
    "\\end{align}\n",
    "$$\n",
    "\n",
    "and only a single weight vector, $w_{k}$, is associated with each state."
   ]
  },
  {
   "cell_type": "markdown",
   "metadata": {},
   "source": [
    "## 1. Setup\n",
    "First, you must clone the `ssm` repository and install all of the dependencies. The `ssm` package we are using can be found, along with installation instructions, [here](https://github.com/lindermanlab/ssm.git). \n",
    "\n",
    "The line `import ssm` imports the package for use. Here, we have also imported a few other packages for plotting."
   ]
  },
  {
   "cell_type": "code",
   "execution_count": 1,
   "metadata": {},
   "outputs": [],
   "source": [
    "import os\n",
    "if os.path.basename(os.getcwd()) == 'notebooks':\n",
    "    os.chdir('..')\n",
    "import numpy as np\n",
    "import numpy.random as npr\n",
    "import pandas as pd\n",
    "import matplotlib.pyplot as plt\n",
    "from sklearn.model_selection import train_test_split\n",
    "from sglm import hmmUtils, utils\n",
    "import ssm\n",
    "\n",
    "npr.seed(42)"
   ]
  },
  {
   "cell_type": "markdown",
   "metadata": {},
   "source": [
    "#### 1a. Import your data"
   ]
  },
  {
   "cell_type": "code",
   "execution_count": 2,
   "metadata": {},
   "outputs": [
    {
     "name": "stderr",
     "output_type": "stream",
     "text": [
      "C:\\Users\\janet\\AppData\\Local\\Temp\\ipykernel_14104\\2110500065.py:1: DtypeWarning: Columns (41) have mixed types. Specify dtype option on import or set low_memory=False.\n",
      "  data_ = pd.read_csv(r'C:\\Users\\janet\\Documents\\Behavior_samp_data\\FreelyMoving_6nback_102323_wDOB_wrecordDF.csv')\n"
     ]
    }
   ],
   "source": [
    "data_ = pd.read_csv(r'C:\\Users\\janet\\Documents\\Behavior_samp_data\\FreelyMoving_6nback_102323_wDOB_wrecordDF.csv')\n",
    "#filtered_data = pd.read_csv(r'C:\\Users\\janet\\Documents\\Behavior_samp_data\\HMM_6nback_102323_wDOB_wrecordDF.csv')\n"
   ]
  },
  {
   "cell_type": "code",
   "execution_count": 6,
   "metadata": {},
   "outputs": [],
   "source": [
    "probs = '80-20'\n",
    "filtered_data = data_[(data_['Condition'] == probs)]"
   ]
  },
  {
   "cell_type": "code",
   "execution_count": 9,
   "metadata": {},
   "outputs": [],
   "source": [
    "filtered_data.loc[:, '3_Reward'] = filtered_data['3_Reward'].replace(0, -1)"
   ]
  },
  {
   "cell_type": "code",
   "execution_count": 10,
   "metadata": {},
   "outputs": [
    {
     "name": "stderr",
     "output_type": "stream",
     "text": [
      "C:\\Users\\janet\\AppData\\Local\\Temp\\ipykernel_14104\\1374730130.py:2: SettingWithCopyWarning: \n",
      "A value is trying to be set on a copy of a slice from a DataFrame.\n",
      "Try using .loc[row_indexer,col_indexer] = value instead\n",
      "\n",
      "See the caveats in the documentation: https://pandas.pydata.org/pandas-docs/stable/user_guide/indexing.html#returning-a-view-versus-a-copy\n",
      "  filtered_data.loc[:, '1_ChoiceReward'] = filtered_data['1_Port'] * filtered_data['1_Reward']\n",
      "C:\\Users\\janet\\AppData\\Local\\Temp\\ipykernel_14104\\1374730130.py:3: SettingWithCopyWarning: \n",
      "A value is trying to be set on a copy of a slice from a DataFrame.\n",
      "Try using .loc[row_indexer,col_indexer] = value instead\n",
      "\n",
      "See the caveats in the documentation: https://pandas.pydata.org/pandas-docs/stable/user_guide/indexing.html#returning-a-view-versus-a-copy\n",
      "  filtered_data.loc[:, '2_ChoiceReward'] = filtered_data['2_Port'] * filtered_data['2_Reward']\n",
      "C:\\Users\\janet\\AppData\\Local\\Temp\\ipykernel_14104\\1374730130.py:4: SettingWithCopyWarning: \n",
      "A value is trying to be set on a copy of a slice from a DataFrame.\n",
      "Try using .loc[row_indexer,col_indexer] = value instead\n",
      "\n",
      "See the caveats in the documentation: https://pandas.pydata.org/pandas-docs/stable/user_guide/indexing.html#returning-a-view-versus-a-copy\n",
      "  filtered_data.loc[:, '3_ChoiceReward'] = filtered_data['3_Port'] * filtered_data['3_Reward']\n"
     ]
    }
   ],
   "source": [
    "#add columns for interaction between reward and choice\n",
    "filtered_data.loc[:, '1_ChoiceReward'] = filtered_data['1_Port'] * filtered_data['1_Reward']\n",
    "filtered_data.loc[:, '2_ChoiceReward'] = filtered_data['2_Port'] * filtered_data['2_Reward']\n",
    "filtered_data.loc[:, '3_ChoiceReward'] = filtered_data['3_Port'] * filtered_data['3_Reward']"
   ]
  },
  {
   "cell_type": "code",
   "execution_count": 11,
   "metadata": {},
   "outputs": [
    {
     "data": {
      "text/html": [
       "<div>\n",
       "<style scoped>\n",
       "    .dataframe tbody tr th:only-of-type {\n",
       "        vertical-align: middle;\n",
       "    }\n",
       "\n",
       "    .dataframe tbody tr th {\n",
       "        vertical-align: top;\n",
       "    }\n",
       "\n",
       "    .dataframe thead th {\n",
       "        text-align: right;\n",
       "    }\n",
       "</style>\n",
       "<table border=\"1\" class=\"dataframe\">\n",
       "  <thead>\n",
       "    <tr style=\"text-align: right;\">\n",
       "      <th></th>\n",
       "      <th>Unnamed: 0</th>\n",
       "      <th>Trial</th>\n",
       "      <th>Block Trial</th>\n",
       "      <th>0_ITI</th>\n",
       "      <th>0_trialDuration</th>\n",
       "      <th>Decision</th>\n",
       "      <th>1_Port</th>\n",
       "      <th>1_Reward</th>\n",
       "      <th>1_ITI</th>\n",
       "      <th>1_trialDuration</th>\n",
       "      <th>...</th>\n",
       "      <th>Start_Age</th>\n",
       "      <th>Age_Group</th>\n",
       "      <th>Cohort_Name</th>\n",
       "      <th>Trial_based</th>\n",
       "      <th>Fibers</th>\n",
       "      <th>Dreadds_During_Training</th>\n",
       "      <th>Age at Recording</th>\n",
       "      <th>1_ChoiceReward</th>\n",
       "      <th>2_ChoiceReward</th>\n",
       "      <th>3_ChoiceReward</th>\n",
       "    </tr>\n",
       "  </thead>\n",
       "  <tbody>\n",
       "    <tr>\n",
       "      <th>2702</th>\n",
       "      <td>2702</td>\n",
       "      <td>7</td>\n",
       "      <td>7</td>\n",
       "      <td>1.474</td>\n",
       "      <td>0.334</td>\n",
       "      <td>1</td>\n",
       "      <td>1</td>\n",
       "      <td>1</td>\n",
       "      <td>7.347</td>\n",
       "      <td>0.571</td>\n",
       "      <td>...</td>\n",
       "      <td>206.0</td>\n",
       "      <td>3.0</td>\n",
       "      <td>Aging_Cohort_KM</td>\n",
       "      <td>1.0</td>\n",
       "      <td>0.0</td>\n",
       "      <td>0.0</td>\n",
       "      <td>226.0</td>\n",
       "      <td>1</td>\n",
       "      <td>-1</td>\n",
       "      <td>0</td>\n",
       "    </tr>\n",
       "    <tr>\n",
       "      <th>2703</th>\n",
       "      <td>2703</td>\n",
       "      <td>8</td>\n",
       "      <td>8</td>\n",
       "      <td>1.849</td>\n",
       "      <td>0.353</td>\n",
       "      <td>1</td>\n",
       "      <td>1</td>\n",
       "      <td>1</td>\n",
       "      <td>1.474</td>\n",
       "      <td>0.334</td>\n",
       "      <td>...</td>\n",
       "      <td>206.0</td>\n",
       "      <td>3.0</td>\n",
       "      <td>Aging_Cohort_KM</td>\n",
       "      <td>1.0</td>\n",
       "      <td>0.0</td>\n",
       "      <td>0.0</td>\n",
       "      <td>226.0</td>\n",
       "      <td>1</td>\n",
       "      <td>1</td>\n",
       "      <td>-1</td>\n",
       "    </tr>\n",
       "    <tr>\n",
       "      <th>2704</th>\n",
       "      <td>2704</td>\n",
       "      <td>9</td>\n",
       "      <td>9</td>\n",
       "      <td>1.818</td>\n",
       "      <td>0.367</td>\n",
       "      <td>1</td>\n",
       "      <td>1</td>\n",
       "      <td>1</td>\n",
       "      <td>1.849</td>\n",
       "      <td>0.353</td>\n",
       "      <td>...</td>\n",
       "      <td>206.0</td>\n",
       "      <td>3.0</td>\n",
       "      <td>Aging_Cohort_KM</td>\n",
       "      <td>1.0</td>\n",
       "      <td>0.0</td>\n",
       "      <td>0.0</td>\n",
       "      <td>226.0</td>\n",
       "      <td>1</td>\n",
       "      <td>1</td>\n",
       "      <td>1</td>\n",
       "    </tr>\n",
       "    <tr>\n",
       "      <th>2705</th>\n",
       "      <td>2705</td>\n",
       "      <td>10</td>\n",
       "      <td>10</td>\n",
       "      <td>1.318</td>\n",
       "      <td>0.527</td>\n",
       "      <td>1</td>\n",
       "      <td>1</td>\n",
       "      <td>-1</td>\n",
       "      <td>1.818</td>\n",
       "      <td>0.367</td>\n",
       "      <td>...</td>\n",
       "      <td>206.0</td>\n",
       "      <td>3.0</td>\n",
       "      <td>Aging_Cohort_KM</td>\n",
       "      <td>1.0</td>\n",
       "      <td>0.0</td>\n",
       "      <td>0.0</td>\n",
       "      <td>226.0</td>\n",
       "      <td>-1</td>\n",
       "      <td>1</td>\n",
       "      <td>1</td>\n",
       "    </tr>\n",
       "    <tr>\n",
       "      <th>2706</th>\n",
       "      <td>2706</td>\n",
       "      <td>11</td>\n",
       "      <td>11</td>\n",
       "      <td>1.473</td>\n",
       "      <td>0.461</td>\n",
       "      <td>0</td>\n",
       "      <td>1</td>\n",
       "      <td>-1</td>\n",
       "      <td>1.318</td>\n",
       "      <td>0.527</td>\n",
       "      <td>...</td>\n",
       "      <td>206.0</td>\n",
       "      <td>3.0</td>\n",
       "      <td>Aging_Cohort_KM</td>\n",
       "      <td>1.0</td>\n",
       "      <td>0.0</td>\n",
       "      <td>0.0</td>\n",
       "      <td>226.0</td>\n",
       "      <td>-1</td>\n",
       "      <td>-1</td>\n",
       "      <td>1</td>\n",
       "    </tr>\n",
       "    <tr>\n",
       "      <th>...</th>\n",
       "      <td>...</td>\n",
       "      <td>...</td>\n",
       "      <td>...</td>\n",
       "      <td>...</td>\n",
       "      <td>...</td>\n",
       "      <td>...</td>\n",
       "      <td>...</td>\n",
       "      <td>...</td>\n",
       "      <td>...</td>\n",
       "      <td>...</td>\n",
       "      <td>...</td>\n",
       "      <td>...</td>\n",
       "      <td>...</td>\n",
       "      <td>...</td>\n",
       "      <td>...</td>\n",
       "      <td>...</td>\n",
       "      <td>...</td>\n",
       "      <td>...</td>\n",
       "      <td>...</td>\n",
       "      <td>...</td>\n",
       "      <td>...</td>\n",
       "    </tr>\n",
       "    <tr>\n",
       "      <th>604844</th>\n",
       "      <td>604844</td>\n",
       "      <td>484</td>\n",
       "      <td>3</td>\n",
       "      <td>1.456</td>\n",
       "      <td>0.597</td>\n",
       "      <td>0</td>\n",
       "      <td>0</td>\n",
       "      <td>-1</td>\n",
       "      <td>1.609</td>\n",
       "      <td>0.564</td>\n",
       "      <td>...</td>\n",
       "      <td>48.0</td>\n",
       "      <td>1.0</td>\n",
       "      <td>Aging_Cohort_WCL</td>\n",
       "      <td>1.0</td>\n",
       "      <td>0.0</td>\n",
       "      <td>0.0</td>\n",
       "      <td>73.0</td>\n",
       "      <td>0</td>\n",
       "      <td>0</td>\n",
       "      <td>0</td>\n",
       "    </tr>\n",
       "    <tr>\n",
       "      <th>604845</th>\n",
       "      <td>604845</td>\n",
       "      <td>485</td>\n",
       "      <td>4</td>\n",
       "      <td>12.766</td>\n",
       "      <td>0.347</td>\n",
       "      <td>0</td>\n",
       "      <td>0</td>\n",
       "      <td>-1</td>\n",
       "      <td>1.456</td>\n",
       "      <td>0.597</td>\n",
       "      <td>...</td>\n",
       "      <td>48.0</td>\n",
       "      <td>1.0</td>\n",
       "      <td>Aging_Cohort_WCL</td>\n",
       "      <td>1.0</td>\n",
       "      <td>0.0</td>\n",
       "      <td>0.0</td>\n",
       "      <td>73.0</td>\n",
       "      <td>0</td>\n",
       "      <td>0</td>\n",
       "      <td>0</td>\n",
       "    </tr>\n",
       "    <tr>\n",
       "      <th>604846</th>\n",
       "      <td>604846</td>\n",
       "      <td>486</td>\n",
       "      <td>5</td>\n",
       "      <td>3.087</td>\n",
       "      <td>0.249</td>\n",
       "      <td>0</td>\n",
       "      <td>0</td>\n",
       "      <td>1</td>\n",
       "      <td>12.766</td>\n",
       "      <td>0.347</td>\n",
       "      <td>...</td>\n",
       "      <td>48.0</td>\n",
       "      <td>1.0</td>\n",
       "      <td>Aging_Cohort_WCL</td>\n",
       "      <td>1.0</td>\n",
       "      <td>0.0</td>\n",
       "      <td>0.0</td>\n",
       "      <td>73.0</td>\n",
       "      <td>0</td>\n",
       "      <td>0</td>\n",
       "      <td>0</td>\n",
       "    </tr>\n",
       "    <tr>\n",
       "      <th>604847</th>\n",
       "      <td>604847</td>\n",
       "      <td>487</td>\n",
       "      <td>6</td>\n",
       "      <td>2.400</td>\n",
       "      <td>0.315</td>\n",
       "      <td>0</td>\n",
       "      <td>0</td>\n",
       "      <td>1</td>\n",
       "      <td>3.087</td>\n",
       "      <td>0.249</td>\n",
       "      <td>...</td>\n",
       "      <td>48.0</td>\n",
       "      <td>1.0</td>\n",
       "      <td>Aging_Cohort_WCL</td>\n",
       "      <td>1.0</td>\n",
       "      <td>0.0</td>\n",
       "      <td>0.0</td>\n",
       "      <td>73.0</td>\n",
       "      <td>0</td>\n",
       "      <td>0</td>\n",
       "      <td>0</td>\n",
       "    </tr>\n",
       "    <tr>\n",
       "      <th>604848</th>\n",
       "      <td>604848</td>\n",
       "      <td>488</td>\n",
       "      <td>7</td>\n",
       "      <td>2.241</td>\n",
       "      <td>0.317</td>\n",
       "      <td>0</td>\n",
       "      <td>0</td>\n",
       "      <td>-1</td>\n",
       "      <td>2.400</td>\n",
       "      <td>0.315</td>\n",
       "      <td>...</td>\n",
       "      <td>48.0</td>\n",
       "      <td>1.0</td>\n",
       "      <td>Aging_Cohort_WCL</td>\n",
       "      <td>1.0</td>\n",
       "      <td>0.0</td>\n",
       "      <td>0.0</td>\n",
       "      <td>73.0</td>\n",
       "      <td>0</td>\n",
       "      <td>0</td>\n",
       "      <td>0</td>\n",
       "    </tr>\n",
       "  </tbody>\n",
       "</table>\n",
       "<p>291106 rows × 69 columns</p>\n",
       "</div>"
      ],
      "text/plain": [
       "        Unnamed: 0  Trial  Block Trial   0_ITI  0_trialDuration  Decision   \n",
       "2702          2702      7            7   1.474            0.334         1  \\\n",
       "2703          2703      8            8   1.849            0.353         1   \n",
       "2704          2704      9            9   1.818            0.367         1   \n",
       "2705          2705     10           10   1.318            0.527         1   \n",
       "2706          2706     11           11   1.473            0.461         0   \n",
       "...            ...    ...          ...     ...              ...       ...   \n",
       "604844      604844    484            3   1.456            0.597         0   \n",
       "604845      604845    485            4  12.766            0.347         0   \n",
       "604846      604846    486            5   3.087            0.249         0   \n",
       "604847      604847    487            6   2.400            0.315         0   \n",
       "604848      604848    488            7   2.241            0.317         0   \n",
       "\n",
       "        1_Port  1_Reward   1_ITI  1_trialDuration  ...  Start_Age  Age_Group   \n",
       "2702         1         1   7.347            0.571  ...      206.0        3.0  \\\n",
       "2703         1         1   1.474            0.334  ...      206.0        3.0   \n",
       "2704         1         1   1.849            0.353  ...      206.0        3.0   \n",
       "2705         1        -1   1.818            0.367  ...      206.0        3.0   \n",
       "2706         1        -1   1.318            0.527  ...      206.0        3.0   \n",
       "...        ...       ...     ...              ...  ...        ...        ...   \n",
       "604844       0        -1   1.609            0.564  ...       48.0        1.0   \n",
       "604845       0        -1   1.456            0.597  ...       48.0        1.0   \n",
       "604846       0         1  12.766            0.347  ...       48.0        1.0   \n",
       "604847       0         1   3.087            0.249  ...       48.0        1.0   \n",
       "604848       0        -1   2.400            0.315  ...       48.0        1.0   \n",
       "\n",
       "             Cohort_Name  Trial_based  Fibers  Dreadds_During_Training   \n",
       "2702     Aging_Cohort_KM          1.0     0.0                      0.0  \\\n",
       "2703     Aging_Cohort_KM          1.0     0.0                      0.0   \n",
       "2704     Aging_Cohort_KM          1.0     0.0                      0.0   \n",
       "2705     Aging_Cohort_KM          1.0     0.0                      0.0   \n",
       "2706     Aging_Cohort_KM          1.0     0.0                      0.0   \n",
       "...                  ...          ...     ...                      ...   \n",
       "604844  Aging_Cohort_WCL          1.0     0.0                      0.0   \n",
       "604845  Aging_Cohort_WCL          1.0     0.0                      0.0   \n",
       "604846  Aging_Cohort_WCL          1.0     0.0                      0.0   \n",
       "604847  Aging_Cohort_WCL          1.0     0.0                      0.0   \n",
       "604848  Aging_Cohort_WCL          1.0     0.0                      0.0   \n",
       "\n",
       "        Age at Recording  1_ChoiceReward  2_ChoiceReward  3_ChoiceReward  \n",
       "2702               226.0               1              -1               0  \n",
       "2703               226.0               1               1              -1  \n",
       "2704               226.0               1               1               1  \n",
       "2705               226.0              -1               1               1  \n",
       "2706               226.0              -1              -1               1  \n",
       "...                  ...             ...             ...             ...  \n",
       "604844              73.0               0               0               0  \n",
       "604845              73.0               0               0               0  \n",
       "604846              73.0               0               0               0  \n",
       "604847              73.0               0               0               0  \n",
       "604848              73.0               0               0               0  \n",
       "\n",
       "[291106 rows x 69 columns]"
      ]
     },
     "execution_count": 11,
     "metadata": {},
     "output_type": "execute_result"
    }
   ],
   "source": [
    "filtered_data"
   ]
  },
  {
   "cell_type": "markdown",
   "metadata": {},
   "source": [
    "## 2. Input Driven Observations\n",
    "We create a HMM with input-driven observations and 'standard' (stationary) transitions with the following line:  \n",
    "```python\n",
    "        ssm.HMM(num_states, obs_dim, input_dim, observations=\"input_driven_obs\", observation_kwargs=dict(C=num_categories), transitions=\"standard\")\n",
    "```\n",
    "\n",
    "As in Ashwood et al. (2020), we are going to model an animal's binary choice data during a decision-making task, so we will set `num_categories=2` because the animal only has two options available to it. We will also set `obs_dim = 1` because the dimensionality of the observation data is 1 (if we were also modeling, for example, the binned reaction time of the animal, we could set `obs_dim = 2`).  For the sake of simplicity, we will assume that an animal's choice in a particular state is only affected by the external stimulus associated with that particular trial, and its innate choice bias. Thus, we will set `input_dim = 2` and we will simulate input data that resembles sequences of stimuli in what follows.  In Ashwood et al. (2020), they found that many mice used 3 decision-making states when performing 2AFC tasks. We will, thus, set `num_states = 3`."
   ]
  },
  {
   "cell_type": "markdown",
   "metadata": {},
   "source": [
    "Input-Driven Observations: This means that the observations you see (e.g., the weather you observe) are influenced by some external factors or covariates. For example, the probability of observing rain on a particular day might be influenced by the temperature or humidity on that day.\n",
    "\n",
    "Input-Driven Transitions: This means that the transition probabilities between different hidden states (e.g., different weather patterns) are influenced by external factors. For example, the likelihood of transitioning from a sunny day to a rainy day might depend on some external factors.\n",
    "\n",
    "Stationary Transitions: On the other hand, \"stationary transitions\" mean that the transitions between hidden states are fixed and do not depend on external inputs. In the context of the weather, this would mean that the probability of transitioning from one weather pattern to another is constant and doesn't change based on external factors."
   ]
  },
  {
   "cell_type": "markdown",
   "metadata": {},
   "source": [
    "With these posterior state probabilities, we can assign trials to states and then plot the fractional occupancy of each state:"
   ]
  },
  {
   "cell_type": "markdown",
   "metadata": {},
   "source": [
    "## We will be Picking the optimal number of states - Let's loop through a list of num_states and see which one produces the highest log likelihood."
   ]
  },
  {
   "cell_type": "markdown",
   "metadata": {},
   "source": [
    "### 2a. Data and param set up"
   ]
  },
  {
   "cell_type": "code",
   "execution_count": 12,
   "metadata": {},
   "outputs": [
    {
     "name": "stdout",
     "output_type": "stream",
     "text": [
      "You have 528 training sessions and 59 test sessions.\n"
     ]
    }
   ],
   "source": [
    "probs = '80-20'\n",
    "train_split = 0.90\n",
    "seed = np.random.randint(1000)\n",
    "\n",
    "#filtered_data = data_[(data_['Condition'] == probs) & (data_['Mouse ID'] == 'GN')]\n",
    "\n",
    "## Get train/test session IDs\n",
    "\n",
    "train_ids, test_ids = train_test_split(filtered_data['Session ID'].unique(), \n",
    "                                       train_size=train_split, random_state=seed)\n",
    "\n",
    "print('You have {} training sessions and {} test sessions.'.format(len(train_ids), len(test_ids)))"
   ]
  },
  {
   "cell_type": "code",
   "execution_count": 13,
   "metadata": {},
   "outputs": [],
   "source": [
    "## Create new dataframes for train/test data\n",
    "\n",
    "train_data = filtered_data[filtered_data['Session ID'].isin(train_ids)]\n",
    "test_data = filtered_data[filtered_data['Session ID'].isin(test_ids)]"
   ]
  },
  {
   "cell_type": "code",
   "execution_count": 14,
   "metadata": {},
   "outputs": [
    {
     "name": "stdout",
     "output_type": "stream",
     "text": [
      "Number of unique test elements: 38\n",
      "List of unique test elements: ['AN' 'BL' 'BR' 'DB' 'DL' 'DLL' 'DN' 'EB' 'EL' 'EN' 'FB' 'FN' 'FR' 'GB'\n",
      " 'GN' 'GR' 'HN' 'IL' 'IL2' 'IR' 'JB' 'JL' 'JN' 'JR' 'KJM1' 'KJM2' 'KJM3'\n",
      " 'KJM5' 'KJM6' 'KJM62' 'KJM7' 'KJM8' 'MN' 'MR' 'OB' 'YB' 'YN' 'YR']\n",
      "Number of unique train elements: 65\n",
      "List of unique train elements: ['AB' 'AN' 'AR' 'BB' 'BL' 'BN' 'BR' 'CB' 'CL' 'CN' 'CR' 'DB' 'DL' 'DLL'\n",
      " 'DN' 'EB' 'EL' 'EN' 'ER' 'FB' 'FL' 'FN' 'FR' 'GB' 'GL' 'GN' 'GR' 'HB'\n",
      " 'HL' 'HN' 'HR' 'IL' 'IN' 'IR' 'JB' 'JL' 'JN' 'JR' 'KJM1' 'KJM10' 'KJM11'\n",
      " 'KJM12' 'KJM2' 'KJM3' 'KJM4' 'KJM5' 'KJM6' 'KJM61' 'KJM62' 'KJM63' 'KJM7'\n",
      " 'KJM8' 'KJM9' 'MB' 'ML' 'MN' 'MR' 'OB' 'OL' 'ON' 'YB' 'YL' 'YN' 'YR' 'cn']\n"
     ]
    }
   ],
   "source": [
    "unique_elements = np.array([s.split('_')[0] for s in test_ids])\n",
    "\n",
    "# Count and list unique elements\n",
    "unique_test_elements_count = np.unique(unique_elements).size\n",
    "unique_test_elements_list = np.unique(unique_elements)\n",
    "\n",
    "# Print the results\n",
    "print(f\"Number of unique test elements: {unique_test_elements_count}\")\n",
    "print(f\"List of unique test elements: {unique_test_elements_list}\")\n",
    "\n",
    "unique_r_elements = np.array([s.split('_')[0] for s in train_ids])\n",
    "\n",
    "# Count and list unique elements\n",
    "unique_train_elements_count = np.unique(unique_r_elements).size\n",
    "unique_train_elements_list = np.unique(unique_r_elements)\n",
    "\n",
    "# Print the results\n",
    "print(f\"Number of unique train elements: {unique_train_elements_count}\")\n",
    "print(f\"List of unique train elements: {unique_train_elements_list}\")"
   ]
  },
  {
   "cell_type": "code",
   "execution_count": 15,
   "metadata": {},
   "outputs": [
    {
     "name": "stdout",
     "output_type": "stream",
     "text": [
      "Number of overlapping elements: 37\n"
     ]
    }
   ],
   "source": [
    "# no of overlapping elements\n",
    "overlap = np.intersect1d(unique_r_elements, unique_elements)\n",
    "print(f\"Number of overlapping elements: {overlap.size}\")"
   ]
  },
  {
   "cell_type": "code",
   "execution_count": 16,
   "metadata": {},
   "outputs": [],
   "source": [
    "# Extracting specific columns and creating variables for model input\n",
    "x_cols = ['1_Reward', '2_Reward', '3_Reward', '1_Port', '2_Port', '3_Port', '1_ChoiceReward', '2_ChoiceReward', '3_ChoiceReward']\n",
    "\n",
    "#columns for x and y data\n",
    "train_data_x = train_data[x_cols]\n",
    "test_data_x = test_data[x_cols]\n",
    "\n",
    "#number of sessions and trials\n",
    "train_data_sessions = len(train_data_x)\n",
    "test_data_sessions = len(test_data_x)\n",
    "\n",
    "train_num_sess = len(train_data['Session ID'].unique())\n",
    "test_num_sess = len(test_data['Session ID'].unique())\n",
    "\n",
    "num_trials_per_train_sess = train_data_sessions\n",
    "num_trials_per_test_sess = test_data_sessions\n",
    "\n",
    "# Data inputs \n",
    "choices = train_data['Decision'].to_numpy()\n",
    "choices = choices.reshape(-1, 1)\n",
    "choices = choices.astype(int)\n",
    "\n",
    "inpts = train_data_x.to_numpy()"
   ]
  },
  {
   "cell_type": "code",
   "execution_count": 17,
   "metadata": {},
   "outputs": [],
   "source": [
    "# Model Inputs\n",
    "num_states = [1, 2, 3, 4] # number of discrete states\n",
    "obs_dim =  1 # number of observed dimensions, 1 for just reward, 2 if you had something like reaction time\n",
    "num_categories = 2 # number of categories for the output\n",
    "input_dim = inpts.shape[1]\n",
    "\n",
    "# C represents the binary choice the animal must make \n",
    "C = 2 \n",
    "\n",
    "# set sigma and alpha for the prior on the weights\n",
    "prior_sigma = 2\n",
    "prior_alpha = 2"
   ]
  },
  {
   "cell_type": "markdown",
   "metadata": {},
   "source": [
    "### 2b. Option 1 - Now, we will be running the models. We will be using the input driven observation model to predict the animal's choice on each trial, and then comparing that to the actual choice. We will then plot the prediction accuracy for each state. Importantly, we are changing our observation to 'input driven' and the transitions to 'sticky'. We will also be performing a cross validation analysis to see how well the model generalizes to new data. "
   ]
  },
  {
   "cell_type": "code",
   "execution_count": null,
   "metadata": {},
   "outputs": [],
   "source": [
    "sticky_model_list = []\n",
    "sticky_ll_list = []\n",
    "sticky_train_scores = []\n",
    "sticky_test_scores = []\n",
    "for i in range(len(num_states)):\n",
    "    from ssm import model_selection\n",
    "    map_glmhmm = ssm.HMM(num_states[i], obs_dim, input_dim, observations=\"input_driven_obs\", \n",
    "                observation_kwargs=dict(C=num_categories,prior_sigma=prior_sigma),\n",
    "                transitions=\"sticky\", transition_kwargs=dict(alpha=prior_alpha,kappa=0))\n",
    "    train_scores, test_scores = ssm.model_selection.cross_val_scores(map_glmhmm, choices, inpts, heldout_frac=0.1, n_repeats=3, verbose=True)\n",
    "    N_iters = 200\n",
    "    sticky_ll = map_glmhmm.fit(choices, inputs=inpts, method=\"em\", num_iters=N_iters, initialize=False)\n",
    "    sticky_ll_list.append(sticky_ll)\n",
    "    sticky_train_scores.append(train_scores)\n",
    "    sticky_test_scores.append(test_scores)\n",
    "    sticky_model_list.append(map_glmhmm)"
   ]
  },
  {
   "cell_type": "code",
   "execution_count": null,
   "metadata": {},
   "outputs": [],
   "source": [
    "## calc standard error of the mean for train and test scores\n",
    "sticky_train_scores_sem = []\n",
    "for i in range(len(sticky_train_scores)):\n",
    "    sticky_train_scores_sem.append(np.std(sticky_train_scores[i])/np.sqrt(len(sticky_train_scores[i])))\n",
    "\n",
    "sticky_test_scores_sem = []\n",
    "for i in range(len(sticky_test_scores)):\n",
    "    sticky_test_scores_sem.append(np.std(sticky_test_scores[i])/np.sqrt(len(sticky_test_scores[i])))\n",
    "\n",
    "## determine critical value for set confidence interval\n",
    "from scipy.stats import norm\n",
    "confidence = 0.95\n",
    "alpha_2 = (1 - confidence) / 2\n",
    "critical_value = norm.ppf(1 - alpha_2)\n",
    "\n",
    "## calc confidence interval for train and test scores\n",
    "sticky_train_scores_ci = []\n",
    "for i in range(len(sticky_train_scores)):\n",
    "    sticky_train_scores_ci.append([np.mean(sticky_train_scores[i]) - (critical_value * sticky_train_scores_sem[i]),\n",
    "                                  np.mean(sticky_train_scores[i]) + (critical_value * sticky_train_scores_sem[i])])\n",
    "\n",
    "sticky_test_scores_ci = []\n",
    "for i in range(len(sticky_test_scores)):\n",
    "    sticky_test_scores_ci.append([np.mean(sticky_test_scores[i]) - (critical_value * sticky_test_scores_sem[i]),\n",
    "                                np.mean(sticky_test_scores[i]) + (critical_value * sticky_test_scores_sem[i])])\n"
   ]
  },
  {
   "cell_type": "code",
   "execution_count": null,
   "metadata": {},
   "outputs": [],
   "source": [
    "## plot train and test scores for each model and display confidence intervals\n",
    "fig = plt.figure(figsize=(4, 3), dpi=80, facecolor='w', edgecolor='k')\n",
    "plt.plot(num_states, [np.mean(s) for s in sticky_train_scores], label=\"Train\")\n",
    "plt.plot(num_states, [np.mean(s) for s in sticky_test_scores], label=\"Test\")\n",
    "plt.fill_between(num_states, [s[0] for s in sticky_train_scores_ci], [s[1] for s in sticky_train_scores_ci], alpha=0.3)\n",
    "plt.fill_between(num_states, [s[0] for s in sticky_test_scores_ci], [s[1] for s in sticky_test_scores_ci], alpha=0.3)\n",
    "plt.legend(loc=\"lower right\")\n",
    "plt.xlabel(\"Number of states\")\n",
    "plt.ylabel(\"Log Probability\")\n",
    "plt.title(\"Cross Validation Scores; error = confidence interval 95%\")\n",
    "plt.show()\n"
   ]
  },
  {
   "cell_type": "code",
   "execution_count": null,
   "metadata": {},
   "outputs": [],
   "source": [
    "for ii in range(len(sticky_model_list)):\n",
    "    log_likelihood = sticky_model_list[ii].log_likelihood(choices, inputs=inpts)\n",
    "    print('Model with ' + str(num_states[ii]) + ' states has a train log likelihood of ' + str(log_likelihood))"
   ]
  },
  {
   "cell_type": "code",
   "execution_count": null,
   "metadata": {},
   "outputs": [],
   "source": [
    "##determine LL of held out test data\n",
    "test_choices = test_data['Decision'].to_numpy()\n",
    "test_choices = test_choices.reshape(-1, 1)\n",
    "test_choices = test_choices.astype(int)\n",
    "\n",
    "test_inpts = test_data_x.to_numpy()\n",
    "sticky_test_ll_list = []\n",
    "\n",
    "for ii in range(len(sticky_model_list)):\n",
    "    sticky_test_ll_list.append(sticky_model_list[ii].log_likelihood(test_choices, inputs=test_inpts))\n",
    "    print('Model with ' + str(num_states[ii]) + ' states has a test log likelihood of ' + str(sticky_test_ll_list[ii]))"
   ]
  },
  {
   "cell_type": "code",
   "execution_count": null,
   "metadata": {},
   "outputs": [],
   "source": [
    "##normalize log likelihood in test_glmhmm_list and test_ll_list\n",
    "sticky_norm_ll_list = []\n",
    "sticky_norm_test_ll_list = []\n",
    "for ii in range(len(sticky_ll_list)):\n",
    "    sticky_norm_ll_list.append([k / num_trials_per_train_sess for k in sticky_ll_list[ii] if k is not None])\n",
    "    sticky_norm_test_ll_list.append(sticky_test_ll_list[ii]/num_trials_per_test_sess)"
   ]
  },
  {
   "cell_type": "code",
   "execution_count": null,
   "metadata": {},
   "outputs": [],
   "source": [
    "## Plot subplots of the log probabilities of the train and test models. Fit model final LL should be greater\n",
    "# than or equal to true LL.\n",
    "fig, axs = plt.subplots(2, 2, figsize=(10, 10), dpi=80, facecolor='w', edgecolor='k')\n",
    "axs = axs.ravel()\n",
    "for ii in range(len(sticky_ll_list)):\n",
    "    axs[ii].plot(sticky_norm_ll_list[ii], label=\"EM\")\n",
    "    axs[ii].plot([0, len(sticky_norm_ll_list[ii])], sticky_norm_test_ll_list[ii] * np.ones(2), ':k', label=\"Test\")\n",
    "    axs[ii].legend(loc=\"lower right\")\n",
    "    axs[ii].set_xlabel(\"EM Iteration\")\n",
    "    axs[ii].set_xlim(0, len(sticky_norm_ll_list[ii]))\n",
    "    axs[ii].set_ylabel(\"Log Probability\")\n",
    "    axs[ii].set_title('Model with ' + str(num_states[ii]) + ' states')"
   ]
  },
  {
   "cell_type": "code",
   "execution_count": null,
   "metadata": {},
   "outputs": [],
   "source": [
    "##Convert to bits per state for train data\n",
    "sticky_bits_per_state_train = []\n",
    "for ii in range(len(sticky_model_list)):\n",
    "    import math\n",
    "    bits_per_sess = ((sticky_model_list[ii].log_likelihood(choices, inputs=inpts)-(np.log(0.5)*num_trials_per_train_sess))/(num_trials_per_train_sess*np.log(2)))\n",
    "    sticky_bits_per_state_train.append(bits_per_sess)"
   ]
  },
  {
   "cell_type": "code",
   "execution_count": null,
   "metadata": {},
   "outputs": [],
   "source": [
    "##Convert to bits per state for test data\n",
    "sticky_bits_per_state_test = []\n",
    "for ii in range(len(sticky_model_list)):\n",
    "    import math\n",
    "    bits_per_sess = ((sticky_model_list[ii].log_likelihood(test_choices, inputs=test_inpts)-(np.log(0.5)*num_trials_per_test_sess))/(num_trials_per_test_sess*np.log(2)))\n",
    "    sticky_bits_per_state_test.append(bits_per_sess)"
   ]
  },
  {
   "cell_type": "code",
   "execution_count": null,
   "metadata": {},
   "outputs": [],
   "source": [
    "##Plot bits/state train vs test\n",
    "fig = plt.figure(figsize=(4, 3), dpi=80, facecolor='w', edgecolor='k')\n",
    "plt.plot(num_states, sticky_bits_per_state_train, label=\"Train\", marker='o')\n",
    "plt.plot(num_states, sticky_bits_per_state_test, label=\"Test\", marker='o')\n",
    "plt.legend(loc=\"lower right\")\n",
    "plt.xlabel(\"Number of States\")\n",
    "plt.ylabel(\"bits/trials\")\n",
    "plt.xticks(num_states)\n",
    "plt.title('Sticky HMM')\n",
    "plt.show()"
   ]
  },
  {
   "cell_type": "code",
   "execution_count": null,
   "metadata": {},
   "outputs": [],
   "source": [
    "##Calculate AIC  for train data normalized by number of trials\n",
    "sticky_AIC_train = []\n",
    "for ii in range(len(sticky_model_list)):\n",
    "    AIC = (-2*(sticky_model_list[ii].log_likelihood(choices, inputs=inpts)/num_trials_per_train_sess))+(2*(num_states[ii]))\n",
    "    sticky_AIC_train.append(AIC)"
   ]
  },
  {
   "cell_type": "code",
   "execution_count": null,
   "metadata": {},
   "outputs": [],
   "source": [
    "##Calculate AIC for test data normalized by number of trials\n",
    "sticky_AIC_test = []\n",
    "for ii in range(len(sticky_model_list)):\n",
    "    AIC = (-2*(sticky_model_list[ii].log_likelihood(test_choices, inputs=test_inpts)/num_trials_per_test_sess))+(2*(num_states[ii]))\n",
    "    sticky_AIC_test.append(AIC)"
   ]
  },
  {
   "cell_type": "code",
   "execution_count": null,
   "metadata": {},
   "outputs": [],
   "source": [
    "##Plot AIC for train and test data side by side\n",
    "fig = plt.figure(figsize=(4, 3), dpi=80, facecolor='w', edgecolor='k')\n",
    "plt.subplots_adjust(wspace=0.4)\n",
    "\n",
    "plt.plot(num_states, sticky_AIC_train, label=\"AIC Train\", marker='o', color='green')\n",
    "plt.plot(num_states, sticky_AIC_test, label=\"AIC Test\", marker='o', color='magenta')\n",
    "plt.legend(loc=\"upper left\")\n",
    "plt.xlabel(\"Number of States\")\n",
    "plt.title('Sticky HMM')\n",
    "plt.ylabel(\"AIC\")\n",
    "plt.xticks(num_states)\n"
   ]
  },
  {
   "cell_type": "code",
   "execution_count": null,
   "metadata": {},
   "outputs": [],
   "source": [
    "# # Get expected states for each model:\n",
    "expectations_list = []\n",
    "for i in range(len(num_states)):\n",
    "    expectations_list.append([sticky_model_list[i].expected_states(data=data, input=inpt)[0]\n",
    "                for data, inpt\n",
    "                in zip([choices], [inpts])])\n",
    "\n",
    "## Get expected states for held out test data for each model:\n",
    "sticky_test_expectations_list = []\n",
    "for i in range(len(num_states)):\n",
    "    sticky_test_expectations_list.append([sticky_model_list[i].expected_states(data=data, input=inpt)[0]\n",
    "                for data, inpt\n",
    "                in zip([test_choices], [test_inpts])])"
   ]
  },
  {
   "cell_type": "code",
   "execution_count": null,
   "metadata": {},
   "outputs": [],
   "source": [
    "#calculate predictive accuracy for each model\n",
    "sticky_predictive_acc_list = []\n",
    "for i in range(len(num_states)):\n",
    "    model = sticky_model_list[i]\n",
    "    expectations = sticky_test_expectations_list[i]\n",
    "    glm_weights = -model.observations.params\n",
    "    permutation = np.argsort(glm_weights[:, 0, 0])\n",
    "    masks = [np.ones_like(data, dtype=bool) for data in [test_choices]]\n",
    "    # Convert this now to one array:\n",
    "    posterior_probs = np.concatenate(expectations, axis=0)\n",
    "    posterior_probs = posterior_probs[:, permutation]\n",
    "    prob_right = [\n",
    "        np.exp(model.observations.calculate_logits(input=test_inpts))\n",
    "        for data, input, train_mask in zip(test_choices, test_inpts, masks)\n",
    "    ]\n",
    "    prob_right = np.concatenate(prob_right, axis=0)\n",
    "    # Now multiply posterior probs and prob_right:\n",
    "    prob_right = prob_right[:, :, 1] ## taking logits running an exponential then arranging in a 3d array\n",
    "    # Now multiply posterior probs and prob_right and sum over latent axis:\n",
    "    final_prob_right = np.sum(np.multiply(posterior_probs, prob_right), axis=1)\n",
    "    # Get the predicted label for each time step:\n",
    "    predicted_label = np.around(final_prob_right, decimals=0).astype('int')\n",
    "    # Examine at appropriate idx\n",
    "    predictive_acc = np.sum(test_choices[:, 0] == predicted_label) / len(test_choices)\n",
    "    print('Model with ' + str(num_states[i]) + ' state(s) has a test predictive accuracy of ' + str(predictive_acc))\n",
    "    sticky_predictive_acc_list.append(predictive_acc)\n"
   ]
  },
  {
   "cell_type": "code",
   "execution_count": null,
   "metadata": {},
   "outputs": [],
   "source": [
    "# Dot plot of predictive accuracy for each model\n",
    "fig = plt.figure(figsize=(4, 3), dpi=80, facecolor='w', edgecolor='k')\n",
    "plt.scatter(num_states, sticky_predictive_acc_list, marker='o', color='magenta')\n",
    "plt.xlabel(\"Number of States\")\n",
    "plt.ylabel(\"Predictive Accuracy - Test Data\")\n",
    "plt.ylim(0.5, 1)\n",
    "plt.xticks(num_states)\n",
    "plt.title('Sticky Model')\n"
   ]
  },
  {
   "cell_type": "code",
   "execution_count": null,
   "metadata": {},
   "outputs": [],
   "source": [
    "num_states_2plot = 3\n",
    "model_to_plot = (num_states_2plot-1) #remember, 0 indexed\n",
    "\n",
    "\n",
    "sticky_gen_weights = sticky_model_list[model_to_plot].observations.params #select correct model whether in list, or just test_glmhmm\n",
    "cols = ['#ff7f00', '#4daf4a', '#377eb8', '#e41a1c']\n",
    "# Plot the GLM weights for each input regressor against each state for the model with 2 states\n",
    "fig = plt.figure(figsize=(7, 2.5), dpi=80, facecolor='w', edgecolor='k')\n",
    "for k in range(num_states_2plot):\n",
    "    plt.plot(sticky_gen_weights[k,0,:], label=\"State \" + str(k + 1), lw=2,\n",
    "             color=cols[k], marker = 'o', markersize = 5)\n",
    "plt.legend(loc=\"lower right\")\n",
    "plt.xticks(np.arange(len(x_cols)), x_cols, rotation=45, fontsize = 10)\n",
    "plt.ylabel(\"GLM weight\", fontsize = 15)\n",
    "plt.xlabel(\"Inputs\", fontsize = 15)\n",
    "plt.xlim((0, len(x_cols)))\n",
    "plt.title('Sticky HMM')\n"
   ]
  },
  {
   "cell_type": "markdown",
   "metadata": {},
   "source": [
    "### Plotting transition matrix: Here, we will look at the resulting transition matrix. You can select any model output from the list below to plot."
   ]
  },
  {
   "cell_type": "code",
   "execution_count": null,
   "metadata": {},
   "outputs": [],
   "source": [
    "num_states_2plot = 3\n",
    "model_to_plot = (num_states_2plot-1) #remember, 0 indexed\n",
    "\n",
    "gen_weights = sticky_model_list[model_to_plot].observations.params #select correct model whether in list, or just test_glmhmm\n",
    "gen_trans_mat = sticky_model_list[model_to_plot].transitions.params #select correct model whether in list, or just test_glmhmm\n",
    "\n",
    "\n",
    "# Plot generative parameters:\n",
    "fig = plt.figure(figsize=(8, 3), dpi=80, facecolor='w', edgecolor='k')\n",
    "\n",
    "plt.subplot(1, 2, 1)\n",
    "gen_trans_mat = np.exp(gen_trans_mat)[0]\n",
    "plt.imshow(gen_trans_mat, vmin=-0.8, vmax=1, cmap='bone')\n",
    "for i in range(gen_trans_mat.shape[0]):\n",
    "    for j in range(gen_trans_mat.shape[1]):\n",
    "        text = plt.text(j, i, str(np.around(gen_trans_mat[i, j], decimals=2)), ha=\"center\", va=\"center\",\n",
    "                        color=\"k\", fontsize=12)\n",
    "plt.xlim(-0.5, num_states_2plot - 0.5)\n",
    "plt.xticks(range(0, num_states_2plot), range(num_states_2plot), fontsize=10)\n",
    "plt.yticks(range(0, num_states_2plot), range(num_states_2plot), fontsize=10)\n",
    "plt.ylim(num_states_2plot - 0.5, -0.5)\n",
    "plt.ylabel(\"state t\", fontsize = 15)\n",
    "plt.xlabel(\"state t+1\", fontsize = 15)\n",
    "plt.title(\"Generative transition matrix - Sticky\", fontsize = 15)"
   ]
  },
  {
   "cell_type": "code",
   "execution_count": null,
   "metadata": {},
   "outputs": [],
   "source": [
    "#Loop through all models to get posterior probabilities for train data and state_occupancies\n",
    "posterior_probs_list = []\n",
    "state_occupancies_list = []\n",
    "for i in range(len(num_states)):\n",
    "    posterior_probs = [sticky_model_list[i].expected_states(data=data, input=inpt)[0]\n",
    "                for data, inpt\n",
    "                in zip([choices], [inpts])]\n",
    "    posterior_probs_concat = np.concatenate(posterior_probs)\n",
    "    state_max_posterior = np.argmax(posterior_probs_concat, axis = 1)\n",
    "    _, state_occupancies = np.unique(state_max_posterior, return_counts=True)\n",
    "    state_occupancies = state_occupancies/np.sum(state_occupancies)\n",
    "    posterior_probs_list.append(posterior_probs)\n",
    "    state_occupancies_list.append(state_occupancies)\n",
    "\n",
    "#Loop through all models to get posterior probabilities for test data and state_occupancies\n",
    "sticky_test_posterior_probs_list = []\n",
    "sticky_test_state_occupancies_list = []\n",
    "for i in range(len(num_states)):\n",
    "    sticky_test_posterior_probs = [sticky_model_list[i].expected_states(data=data, input=inpt)[0]\n",
    "                for data, inpt\n",
    "                in zip([test_choices], [test_inpts])]\n",
    "    sticky_test_posterior_probs_concat = np.concatenate(sticky_test_posterior_probs)\n",
    "    sticky_test_state_max_posterior = np.argmax(sticky_test_posterior_probs_concat, axis = 1)\n",
    "    _, sticky_test_state_occupancies = np.unique(sticky_test_state_max_posterior, return_counts=True)\n",
    "    sticky_test_state_occupancies = sticky_test_state_occupancies/np.sum(sticky_test_state_occupancies)\n",
    "    sticky_test_posterior_probs_list.append(sticky_test_posterior_probs)\n",
    "    sticky_test_state_occupancies_list.append(sticky_test_state_occupancies)"
   ]
  },
  {
   "cell_type": "code",
   "execution_count": null,
   "metadata": {},
   "outputs": [],
   "source": [
    "trials_to_plot = (0, 500) # number of trials to plot\n",
    "num_states_2plot = 3\n",
    "model_to_plot = (num_states_2plot-1) #remember, 0 indexed\n",
    "sess_id = 0 #session id; can choose any index between 0 and num_sess-1\n",
    "\n",
    "cols = ['#ff7f00', '#4daf4a', '#377eb8', '#e41a1c']\n",
    "fig = plt.figure(figsize=(10, 2.5), dpi=80, facecolor='w', edgecolor='k')\n",
    "\n",
    "for k in range(num_states_2plot):\n",
    "    posterior_probs = posterior_probs_list[model_to_plot]\n",
    "    plt.plot(posterior_probs[sess_id][:, k], label=\"State \" + str(k + 1), lw=2,\n",
    "             color=cols[k])\n",
    "plt.ylim((-0.01, 1.01))\n",
    "plt.yticks([0, 0.5, 1], fontsize = 10)\n",
    "plt.xlim(trials_to_plot) \n",
    "plt.xlabel(\"trial #\", fontsize = 15)\n",
    "\n",
    "plt.ylabel(\"p(state)\", fontsize = 15)\n",
    "plt.title('Sticky HMM')"
   ]
  },
  {
   "cell_type": "code",
   "execution_count": null,
   "metadata": {},
   "outputs": [],
   "source": [
    "num_states_2plot = 3\n",
    "model_to_plot = (num_states_2plot-1) #remember, 0 indexed\n",
    "\n",
    "fig = plt.figure(figsize=(2, 2.5), dpi=80, facecolor='w', edgecolor='k')\n",
    "for z, occ in enumerate(sticky_test_state_occupancies_list[model_to_plot]):\n",
    "    plt.bar(z, occ, width = 0.8, color = cols[z])\n",
    "plt.ylim((0, 1))\n",
    "plt.xticks(range(num_states_2plot), range(num_states_2plot), fontsize = 10)\n",
    "plt.yticks([0, 0.5, 1], ['0', '0.5', '1'], fontsize=10)\n",
    "plt.xlabel('state', fontsize = 15)\n",
    "plt.ylabel('frac. occupancy', fontsize=15)\n",
    "plt.title('Sticky HMM')"
   ]
  },
  {
   "cell_type": "markdown",
   "metadata": {},
   "source": [
    "### 2b. Option 2 -- Stationary HMM -- input driven, looping through states. Much the same as above except, we are changing the transitions to 'standard'."
   ]
  },
  {
   "cell_type": "code",
   "execution_count": 18,
   "metadata": {},
   "outputs": [
    {
     "data": {
      "application/vnd.jupyter.widget-view+json": {
       "model_id": "0a44815bb00b42f6ae5861694375cb1e",
       "version_major": 2,
       "version_minor": 0
      },
      "text/plain": [
       "  0%|          | 0/200 [00:00<?, ?it/s]"
      ]
     },
     "metadata": {},
     "output_type": "display_data"
    },
    {
     "data": {
      "application/vnd.jupyter.widget-view+json": {
       "model_id": "851b0e7dac374a80a6b81cfb389bb186",
       "version_major": 2,
       "version_minor": 0
      },
      "text/plain": [
       "  0%|          | 0/200 [00:00<?, ?it/s]"
      ]
     },
     "metadata": {},
     "output_type": "display_data"
    },
    {
     "data": {
      "application/vnd.jupyter.widget-view+json": {
       "model_id": "52a85211a4404de1a9d959de42419616",
       "version_major": 2,
       "version_minor": 0
      },
      "text/plain": [
       "  0%|          | 0/200 [00:00<?, ?it/s]"
      ]
     },
     "metadata": {},
     "output_type": "display_data"
    },
    {
     "data": {
      "application/vnd.jupyter.widget-view+json": {
       "model_id": "7a6f478bedce4e8c99fd79f99e075a4d",
       "version_major": 2,
       "version_minor": 0
      },
      "text/plain": [
       "  0%|          | 0/200 [00:00<?, ?it/s]"
      ]
     },
     "metadata": {},
     "output_type": "display_data"
    }
   ],
   "source": [
    "stationary_model_list = []\n",
    "stationary_ll_list = []\n",
    "stationary_train_scores = []\n",
    "stationary_test_scores = []\n",
    "for i in range(len(num_states)):\n",
    "    from ssm import model_selection\n",
    "    map_glmhmm = ssm.HMM(num_states[i], obs_dim, input_dim, observations=\"input_driven_obs\", \n",
    "                observation_kwargs=dict(C=num_categories, prior_sigma=prior_sigma),\n",
    "                transitions=\"standard\")\n",
    "    train_scores, test_scores = ssm.model_selection.cross_val_scores(map_glmhmm, choices, inpts, heldout_frac=0.1, n_repeats=5, verbose=True)\n",
    "    N_iters = 200\n",
    "    stationary_ll = map_glmhmm.fit(choices, inputs=inpts, method=\"em\", num_iters=N_iters, initialize=False)\n",
    "    stationary_ll_list.append(stationary_ll)\n",
    "    stationary_train_scores.append(train_scores)\n",
    "    stationary_test_scores.append(test_scores)\n",
    "    stationary_model_list.append(map_glmhmm)"
   ]
  },
  {
   "cell_type": "code",
   "execution_count": 19,
   "metadata": {},
   "outputs": [],
   "source": [
    "#save stationary model list, train and test scores, and LL list\n",
    "import pickle\n",
    "\n",
    "model_params = {'num_states': num_states,\n",
    "                'obs_dim': obs_dim,\n",
    "                'input_dim': input_dim,\n",
    "                'num_categories': num_categories,\n",
    "                'input_dim': input_dim,\n",
    "                'C': C,\n",
    "                'prior_sigma': prior_sigma,\n",
    "                'prior_alpha': prior_alpha,\n",
    "                'observations': \"input_driven_obs\",\n",
    "                'x_cols': x_cols,\n",
    "                'notes': \"used 3 nback data, 80-20 prob, 90-10 split, 4 states, reward is 0-1, choice is -1-1, interaction is product of reward and choice\"}\n",
    "\n",
    "data_splits = {'train_split': train_split,\n",
    "               'train_ids': train_ids,\n",
    "               'test_ids': test_ids}\n",
    "\n",
    "#create dictionary for pickle\n",
    "stationary_dict = {'model_params' : model_params,\n",
    "                    'data_splits': data_splits,\n",
    "                   'stationary_model_list': stationary_model_list,\n",
    "                   'stationary_train_scores': stationary_train_scores,\n",
    "                   'stationary_test_scores': stationary_test_scores,\n",
    "                   'stationary_ll_list': stationary_ll_list}\n",
    "\n",
    "#save dictionary in pickle file\n",
    "save_dir = r'C:\\Users\\janet\\Documents\\Behavior_samp_data'\n",
    "pickle.dump(stationary_dict, open(os.path.join(save_dir, 'stationary_3nback_80-20_9inputs.pkl'), 'wb'))"
   ]
  },
  {
   "cell_type": "code",
   "execution_count": null,
   "metadata": {},
   "outputs": [],
   "source": [
    "#load model list, train and test scores, and LL list\n",
    "import pickle\n",
    "save_dir = r'C:\\Users\\janet\\Documents\\Behavior_samp_data'\n",
    "\n",
    "stationary_dict = pickle.load(open(os.path.join(save_dir, 'stationary_3nback_80-20_Reward_neg.pkl'), 'rb'))\n",
    "model_params = stationary_dict['model_params']\n",
    "stationary_model_list = stationary_dict['stationary_model_list']\n",
    "stationary_train_scores = stationary_dict['stationary_train_scores']\n",
    "stationary_test_scores = stationary_dict['stationary_test_scores']\n",
    "stationary_ll_list = stationary_dict['stationary_ll_list']\n"
   ]
  },
  {
   "cell_type": "code",
   "execution_count": null,
   "metadata": {},
   "outputs": [],
   "source": [
    "num_states = model_params['num_states']\n",
    "obs_dim = model_params['obs_dim']\n",
    "input_dim = model_params['input_dim']\n",
    "num_categories = model_params['num_categories']\n",
    "input_dim = model_params['input_dim']\n",
    "C = model_params['C']\n",
    "prior_sigma = model_params['prior_sigma']\n",
    "prior_alpha = model_params['prior_alpha']\n",
    "observations = model_params['observations']\n",
    "notes = model_params['notes']"
   ]
  },
  {
   "cell_type": "code",
   "execution_count": 20,
   "metadata": {},
   "outputs": [],
   "source": [
    "## calc standard error of the mean for train and test scores\n",
    "stationary_train_scores_sem = []\n",
    "for i in range(len(stationary_train_scores)):\n",
    "    stationary_train_scores_sem.append(np.std(stationary_train_scores[i])/np.sqrt(len(stationary_train_scores[i])))\n",
    "\n",
    "stationary_test_scores_sem = []\n",
    "for i in range(len(stationary_test_scores)):\n",
    "    stationary_test_scores_sem.append(np.std(stationary_test_scores[i])/np.sqrt(len(stationary_test_scores[i])))\n",
    "\n",
    "## determine critical value for set confidence interval\n",
    "from scipy.stats import norm\n",
    "confidence = 0.95\n",
    "alpha_2 = (1 - confidence) / 2\n",
    "critical_value = norm.ppf(1 - alpha_2)\n",
    "\n",
    "## calc confidence interval for train and test scores\n",
    "stationary_train_scores_ci = []\n",
    "for i in range(len(stationary_train_scores)):\n",
    "    stationary_train_scores_ci.append([np.mean(stationary_train_scores[i]) - (critical_value * stationary_train_scores_sem[i]),\n",
    "                                  np.mean(stationary_train_scores[i]) + (critical_value * stationary_train_scores_sem[i])])\n",
    "\n",
    "stationary_test_scores_ci = []\n",
    "for i in range(len(stationary_test_scores)):\n",
    "    stationary_test_scores_ci.append([np.mean(stationary_test_scores[i]) - (critical_value * stationary_test_scores_sem[i]),\n",
    "                                np.mean(stationary_test_scores[i]) + (critical_value * stationary_test_scores_sem[i])])\n"
   ]
  },
  {
   "cell_type": "code",
   "execution_count": 21,
   "metadata": {},
   "outputs": [
    {
     "data": {
      "image/png": "[encoded data removed]",
      "text/plain": [
       "<Figure size 320x240 with 1 Axes>"
      ]
     },
     "metadata": {},
     "output_type": "display_data"
    }
   ],
   "source": [
    "## plot train and test scores for each model and display confidence intervals\n",
    "fig = plt.figure(figsize=(4, 3), dpi=80, facecolor='w', edgecolor='k')\n",
    "plt.plot(num_states, [np.mean(s) for s in stationary_train_scores], label=\"Train\")\n",
    "plt.plot(num_states, [np.mean(s) for s in stationary_test_scores], label=\"Test\")\n",
    "plt.fill_between(num_states, [s[0] for s in stationary_train_scores_ci], [s[1] for s in stationary_train_scores_ci], alpha=0.3)\n",
    "plt.fill_between(num_states, [s[0] for s in stationary_test_scores_ci], [s[1] for s in stationary_test_scores_ci], alpha=0.3)\n",
    "plt.legend(loc=\"lower right\")\n",
    "plt.xlabel(\"Number of states\")\n",
    "plt.ylabel(\"Log Probability\")\n",
    "plt.title(\"Cross Validation Scores; error = confidence interval 95%\")\n",
    "plt.show()\n"
   ]
  },
  {
   "cell_type": "code",
   "execution_count": 22,
   "metadata": {},
   "outputs": [
    {
     "name": "stdout",
     "output_type": "stream",
     "text": [
      "Model with 1 states has a train log likelihood of -129068.9816398342\n",
      "Model with 2 states has a train log likelihood of -114180.85050544246\n",
      "Model with 3 states has a train log likelihood of -110885.58578415863\n",
      "Model with 4 states has a train log likelihood of -109228.2069112714\n"
     ]
    }
   ],
   "source": [
    "for ii in range(len(stationary_model_list)):\n",
    "    log_likelihood = stationary_model_list[ii].log_likelihood(choices, inputs=inpts)\n",
    "    print('Model with ' + str(num_states[ii]) + ' states has a train log likelihood of ' + str(log_likelihood))"
   ]
  },
  {
   "cell_type": "code",
   "execution_count": 23,
   "metadata": {},
   "outputs": [
    {
     "name": "stdout",
     "output_type": "stream",
     "text": [
      "Model with 1 states has a test log likelihood of -14618.168513744757\n",
      "Model with 2 states has a test log likelihood of -12798.111426241961\n",
      "Model with 3 states has a test log likelihood of -12417.940130556333\n",
      "Model with 4 states has a test log likelihood of -12237.160088635675\n"
     ]
    }
   ],
   "source": [
    "##determine LL of held out test data\n",
    "test_choices = test_data['Decision'].to_numpy()\n",
    "test_choices = test_choices.reshape(-1, 1)\n",
    "test_choices = test_choices.astype(int)\n",
    "\n",
    "test_inpts = test_data_x.to_numpy()\n",
    "stationary_test_ll_list = []\n",
    "\n",
    "for ii in range(len(stationary_model_list)):\n",
    "    stationary_test_ll_list.append(stationary_model_list[ii].log_likelihood(test_choices, inputs=test_inpts))\n",
    "    print('Model with ' + str(num_states[ii]) + ' states has a test log likelihood of ' + str(stationary_test_ll_list[ii]))"
   ]
  },
  {
   "cell_type": "code",
   "execution_count": 24,
   "metadata": {},
   "outputs": [],
   "source": [
    "##normalize log likelihood in test_glmhmm_list and test_ll_list\n",
    "stationary_norm_ll_list = []\n",
    "stationary_norm_test_ll_list = []\n",
    "for ii in range(len(stationary_ll_list)):\n",
    "    stationary_norm_ll_list.append([k / num_trials_per_train_sess for k in stationary_ll_list[ii] if k is not None])\n",
    "    stationary_norm_test_ll_list.append((stationary_test_ll_list[ii]/num_trials_per_test_sess))"
   ]
  },
  {
   "cell_type": "code",
   "execution_count": 25,
   "metadata": {},
   "outputs": [
    {
     "data": {
      "image/png": "[encoded data removed]",
      "text/plain": [
       "<Figure size 800x800 with 4 Axes>"
      ]
     },
     "metadata": {},
     "output_type": "display_data"
    }
   ],
   "source": [
    "## Plot subplots of the log probabilities of the train and test models. Fit model final LL should be greater\n",
    "# than or equal to true LL.\n",
    "fig, axs = plt.subplots(2, 2, figsize=(10, 10), dpi=80, facecolor='w', edgecolor='k')\n",
    "axs = axs.ravel()\n",
    "for ii in range(len(stationary_ll_list)):\n",
    "    axs[ii].plot(stationary_norm_ll_list[ii], label=\"EM\")\n",
    "    #axs[ii].plot([0, len(stationary_norm_ll_list[ii])], stationary_norm_test_ll_list[ii] * np.ones(2), ':k', label=\"Test\")\n",
    "    axs[ii].legend(loc=\"lower right\")\n",
    "    axs[ii].set_xlabel(\"EM Iteration\")\n",
    "    axs[ii].set_xlim(0, len(stationary_norm_ll_list[ii]))\n",
    "    axs[ii].set_ylabel(\"Log Probability\")\n",
    "    axs[ii].set_title('Model with ' + str(num_states[ii]) + ' states')"
   ]
  },
  {
   "cell_type": "code",
   "execution_count": 26,
   "metadata": {},
   "outputs": [],
   "source": [
    "##Convert to bits per state for train data\n",
    "stationary_bits_per_state_train = []\n",
    "for ii in range(len(stationary_model_list)):\n",
    "    import math\n",
    "    bits_per_sess = ((stationary_model_list[ii].log_likelihood(choices, inputs=inpts)-(np.log(0.5)*num_trials_per_train_sess))/(num_trials_per_train_sess*np.log(2)))\n",
    "    stationary_bits_per_state_train.append(bits_per_sess)"
   ]
  },
  {
   "cell_type": "code",
   "execution_count": 27,
   "metadata": {},
   "outputs": [],
   "source": [
    "##Convert to bits per state for test data\n",
    "stationary_bits_per_state_test = []\n",
    "for ii in range(len(stationary_model_list)):\n",
    "    import math\n",
    "    bits_per_sess = ((stationary_model_list[ii].log_likelihood(test_choices, inputs=test_inpts)-(np.log(0.5)*num_trials_per_test_sess))/(num_trials_per_test_sess*np.log(2)))\n",
    "    stationary_bits_per_state_test.append(bits_per_sess)"
   ]
  },
  {
   "cell_type": "code",
   "execution_count": 29,
   "metadata": {},
   "outputs": [
    {
     "data": {
      "image/png": "[encoded data removed]",
      "text/plain": [
       "<Figure size 320x240 with 1 Axes>"
      ]
     },
     "metadata": {},
     "output_type": "display_data"
    }
   ],
   "source": [
    "##Plot bits/state train vs test\n",
    "fig = plt.figure(figsize=(4, 3), dpi=80, facecolor='w', edgecolor='k')\n",
    "plt.plot(num_states, stationary_bits_per_state_train, label=\"Train\", marker='o')\n",
    "plt.plot(num_states, stationary_bits_per_state_test, label=\"Test\", marker='o')\n",
    "plt.legend(loc=\"lower right\")\n",
    "plt.xlabel(\"Number of States\")\n",
    "plt.ylabel(\"bits/trials\")\n",
    "plt.xticks(num_states)\n",
    "plt.title('Standard HMM')\n",
    "plt.show()"
   ]
  },
  {
   "cell_type": "code",
   "execution_count": 30,
   "metadata": {},
   "outputs": [],
   "source": [
    "##Calculate AIC  for train data normalized by number of trials\n",
    "stationary_AIC_train = []\n",
    "for ii in range(len(stationary_model_list)):\n",
    "    AIC = (-2*(stationary_model_list[ii].log_likelihood(choices, inputs=inpts)/num_trials_per_train_sess))+(2*(num_states[ii]))\n",
    "    stationary_AIC_train.append(AIC)"
   ]
  },
  {
   "cell_type": "code",
   "execution_count": 31,
   "metadata": {},
   "outputs": [],
   "source": [
    "##Calculate AIC  for train data normalized by number of trials\n",
    "stationary_AIC_test = []\n",
    "for ii in range(len(stationary_model_list)):\n",
    "    AIC = (-2*(stationary_model_list[ii].log_likelihood(test_choices, inputs=test_inpts)/num_trials_per_test_sess))+(2*(num_states[ii]))\n",
    "    stationary_AIC_test.append(AIC)"
   ]
  },
  {
   "cell_type": "code",
   "execution_count": 32,
   "metadata": {},
   "outputs": [
    {
     "data": {
      "text/plain": [
       "([<matplotlib.axis.XTick at 0x25003790c10>,\n",
       "  <matplotlib.axis.XTick at 0x25003790be0>,\n",
       "  <matplotlib.axis.XTick at 0x25003790430>,\n",
       "  <matplotlib.axis.XTick at 0x250037355e0>],\n",
       " [Text(1, 0, '1'), Text(2, 0, '2'), Text(3, 0, '3'), Text(4, 0, '4')])"
      ]
     },
     "execution_count": 32,
     "metadata": {},
     "output_type": "execute_result"
    },
    {
     "data": {
      "image/png": "[encoded data removed]",
      "text/plain": [
       "<Figure size 320x240 with 1 Axes>"
      ]
     },
     "metadata": {},
     "output_type": "display_data"
    }
   ],
   "source": [
    "##Plot AIC for train and test data side by side\n",
    "fig = plt.figure(figsize=(4, 3), dpi=80, facecolor='w', edgecolor='k')\n",
    "plt.subplots_adjust(wspace=0.4)\n",
    "\n",
    "plt.plot(num_states, stationary_AIC_train, label=\"AIC Train\", marker='o', color='green')\n",
    "plt.plot(num_states, stationary_AIC_test, label=\"AIC Test\", marker='o', color='magenta')\n",
    "plt.legend(loc=\"upper left\")\n",
    "plt.xlabel(\"Number of States\")\n",
    "plt.title('Standard HMM')\n",
    "plt.ylabel(\"AIC\")\n",
    "plt.xticks(num_states)\n"
   ]
  },
  {
   "cell_type": "code",
   "execution_count": 33,
   "metadata": {},
   "outputs": [],
   "source": [
    "# # Get expected states for each model:\n",
    "expectations_list = []\n",
    "for i in range(len(num_states)):\n",
    "    expectations_list.append([stationary_model_list[i].expected_states(data=data, input=inpt)[0]\n",
    "                for data, inpt\n",
    "                in zip([choices], [inpts])])\n",
    "    \n",
    "## Get expected states for held out test data for each model:\n",
    "stationary_test_expectations_list = []\n",
    "for i in range(len(num_states)):\n",
    "    stationary_test_expectations_list.append([stationary_model_list[i].expected_states(data=data, input=inpt)[0]\n",
    "                for data, inpt\n",
    "                in zip([test_choices], [test_inpts])])"
   ]
  },
  {
   "cell_type": "code",
   "execution_count": 34,
   "metadata": {},
   "outputs": [
    {
     "name": "stdout",
     "output_type": "stream",
     "text": [
      "Model with 1 state(s) has a test predictive accuracy of 0.774884935082778\n",
      "Model with 2 state(s) has a test predictive accuracy of 0.39231984612214055\n",
      "Model with 3 state(s) has a test predictive accuracy of 0.4833413478051796\n",
      "Model with 4 state(s) has a test predictive accuracy of 0.871058597238442\n"
     ]
    }
   ],
   "source": [
    "# calculate predicitve accuracy for test data for each model\n",
    "stationary_test_predictive_acc_list = []\n",
    "for i in range(len(num_states)):\n",
    "    model = stationary_model_list[i]\n",
    "    expectations = stationary_test_expectations_list[i]\n",
    "    glm_weights = -model.observations.params\n",
    "    permutation = np.argsort(glm_weights[:, 0, 0])\n",
    "    masks = [np.ones_like(data, dtype=bool) for data in [test_choices]]\n",
    "    # Convert this now to one array:\n",
    "    posterior_probs = np.concatenate(expectations, axis=0)\n",
    "    posterior_probs = posterior_probs[:, permutation]\n",
    "    prob_right = [\n",
    "        np.exp(model.observations.calculate_logits(input=test_inpts))\n",
    "        for data, input, train_mask in zip(test_choices, test_inpts, masks)\n",
    "    ]\n",
    "    prob_right = np.concatenate(prob_right, axis=0)\n",
    "    # Now multiply posterior probs and prob_right:\n",
    "    prob_right = prob_right[:, :, 1] ## taking logits running an exponential then arranging in a 3d array\n",
    "    # Now multiply posterior probs and prob_right and sum over latent axis:\n",
    "    final_prob_right = np.sum(np.multiply(posterior_probs, prob_right), axis=1)\n",
    "    # Get the predicted label for each time step:\n",
    "    predicted_label = np.around(final_prob_right, decimals=0).astype('int')\n",
    "    # Examine at appropriate idx\n",
    "    predictive_acc = np.sum(test_choices[:, 0] == predicted_label) / len(test_choices)\n",
    "    print('Model with ' + str(num_states[i]) + ' state(s) has a test predictive accuracy of ' + str(predictive_acc))\n",
    "    stationary_test_predictive_acc_list.append(predictive_acc)\n"
   ]
  },
  {
   "cell_type": "code",
   "execution_count": 36,
   "metadata": {},
   "outputs": [
    {
     "data": {
      "text/plain": [
       "Text(0.5, 1.0, 'Standard Model')"
      ]
     },
     "execution_count": 36,
     "metadata": {},
     "output_type": "execute_result"
    },
    {
     "data": {
      "image/png": "[encoded data removed]",
      "text/plain": [
       "<Figure size 320x240 with 1 Axes>"
      ]
     },
     "metadata": {},
     "output_type": "display_data"
    }
   ],
   "source": [
    "# Dot plot of predictive accuracy for each model\n",
    "fig = plt.figure(figsize=(4, 3), dpi=80, facecolor='w', edgecolor='k')\n",
    "plt.scatter(num_states, stationary_test_predictive_acc_list, marker='o', color='magenta')\n",
    "plt.xlabel(\"Number of States\")\n",
    "plt.ylabel(\"Predictive Accuracy - Test Data\")\n",
    "plt.ylim(0.3, 1)\n",
    "plt.xticks(num_states)\n",
    "plt.title('Standard Model')"
   ]
  },
  {
   "cell_type": "code",
   "execution_count": 63,
   "metadata": {},
   "outputs": [
    {
     "data": {
      "text/plain": [
       "Text(0.5, 1.0, 'Standard HMM')"
      ]
     },
     "execution_count": 63,
     "metadata": {},
     "output_type": "execute_result"
    },
    {
     "data": {
      "image/png": "[encoded data removed]",
      "text/plain": [
       "<Figure size 560x200 with 1 Axes>"
      ]
     },
     "metadata": {},
     "output_type": "display_data"
    }
   ],
   "source": [
    "num_states_2plot = 4\n",
    "model_to_plot = (num_states_2plot-1) #remember, 0 indexed\n",
    "\n",
    "stationary_gen_weights = -stationary_model_list[model_to_plot].observations.params #select correct model whether in list, or just test_glmhmm\n",
    "cols = ['#ff7f00', '#4daf4a', '#377eb8', '#e41a1c']\n",
    "# Plot the GLM weights for each input regressor against each state for the model with 2 states\n",
    "fig = plt.figure(figsize=(7, 2.5), dpi=80, facecolor='w', edgecolor='k')\n",
    "for k in range(num_states_2plot):\n",
    "    plt.plot(stationary_gen_weights[k,0,:], label=\"State \" + str(k + 1), lw=2,\n",
    "             color=cols[k], marker = 'o', markersize = 5)\n",
    "plt.legend(loc=\"lower right\")\n",
    "plt.xticks(np.arange(len(x_cols)), x_cols, rotation=45, fontsize = 10)\n",
    "plt.ylabel(\"GLM weight\", fontsize = 15)\n",
    "plt.xlabel(\"Inputs\", fontsize = 15)\n",
    "plt.xlim((0, len(x_cols)))\n",
    "plt.title('Standard HMM')\n"
   ]
  },
  {
   "cell_type": "code",
   "execution_count": 38,
   "metadata": {},
   "outputs": [],
   "source": [
    "#Loop through all models to get posterior probabilities for train data and state_occupancies\n",
    "posterior_probs_list = []\n",
    "state_occupancies_list = []\n",
    "for i in range(len(num_states)):\n",
    "    posterior_probs = [stationary_model_list[i].expected_states(data=data, input=inpt)[0]\n",
    "                for data, inpt\n",
    "                in zip([choices], [inpts])]\n",
    "    posterior_probs_concat = np.concatenate(posterior_probs)\n",
    "    state_max_posterior = np.argmax(posterior_probs_concat, axis = 1)\n",
    "    _, state_occupancies = np.unique(state_max_posterior, return_counts=True)\n",
    "    state_occupancies = state_occupancies/np.sum(state_occupancies)\n",
    "    posterior_probs_list.append(posterior_probs)\n",
    "    state_occupancies_list.append(state_occupancies)\n",
    "\n",
    "#Loop through all models to get posterior probabilities for test data and state_occupancies\n",
    "stationary_test_posterior_probs_list = []\n",
    "stationary_test_state_occupancies_list = []\n",
    "for i in range(len(num_states)):\n",
    "    stationary_test_posterior_probs = [stationary_model_list[i].expected_states(data=data, input=inpt)[0]\n",
    "                for data, inpt\n",
    "                in zip([test_choices], [test_inpts])]\n",
    "    stationary_test_posterior_probs_concat = np.concatenate(stationary_test_posterior_probs)\n",
    "    stationary_test_state_max_posterior = np.argmax(stationary_test_posterior_probs_concat, axis = 1)\n",
    "    _, stationary_test_state_occupancies = np.unique(stationary_test_state_max_posterior, return_counts=True)\n",
    "    stationary_test_state_occupancies = stationary_test_state_occupancies/np.sum(stationary_test_state_occupancies)\n",
    "    stationary_test_posterior_probs_list.append(stationary_test_posterior_probs)\n",
    "    stationary_test_state_occupancies_list.append(stationary_test_state_occupancies)"
   ]
  },
  {
   "cell_type": "code",
   "execution_count": 62,
   "metadata": {},
   "outputs": [
    {
     "data": {
      "text/plain": [
       "Text(0.5, 1.0, 'Standard HMM')"
      ]
     },
     "execution_count": 62,
     "metadata": {},
     "output_type": "execute_result"
    },
    {
     "data": {
      "image/png": "[encoded data removed]",
      "text/plain": [
       "<Figure size 800x200 with 1 Axes>"
      ]
     },
     "metadata": {},
     "output_type": "display_data"
    }
   ],
   "source": [
    "trials_to_plot = (0, 100) # number of trials to plot\n",
    "num_states_2plot = 4\n",
    "model_to_plot = (num_states_2plot-1) #remember, 0 indexed\n",
    "sess_id = 0 #session id; can choose any index between 0 and num_sess-1\n",
    "\n",
    "cols = ['#ff7f00', '#4daf4a', '#377eb8', '#e41a1c']\n",
    "fig = plt.figure(figsize=(10, 2.5), dpi=80, facecolor='w', edgecolor='k')\n",
    "\n",
    "for k in range(num_states_2plot):\n",
    "    posterior_probs = posterior_probs_list[model_to_plot]\n",
    "    plt.plot(posterior_probs[sess_id][:, k], label=\"State \" + str(k + 1), lw=2,\n",
    "             color=cols[k])\n",
    "plt.ylim((-0.01, 1.01))\n",
    "plt.yticks([0, 0.5, 1], fontsize = 10)\n",
    "plt.xlim(trials_to_plot) \n",
    "plt.xlabel(\"trial #\", fontsize = 15)\n",
    "\n",
    "plt.ylabel(\"p(state)\", fontsize = 15)\n",
    "plt.title('Standard HMM')"
   ]
  },
  {
   "cell_type": "code",
   "execution_count": 58,
   "metadata": {},
   "outputs": [
    {
     "data": {
      "text/plain": [
       "Text(0.5, 1.0, 'Standard HMM')"
      ]
     },
     "execution_count": 58,
     "metadata": {},
     "output_type": "execute_result"
    },
    {
     "data": {
      "image/png": "[encoded data removed]",
      "text/plain": [
       "<Figure size 160x200 with 1 Axes>"
      ]
     },
     "metadata": {},
     "output_type": "display_data"
    }
   ],
   "source": [
    "num_states_2plot = 4\n",
    "model_to_plot = (num_states_2plot-1) #remember, 0 indexed\n",
    "\n",
    "fig = plt.figure(figsize=(2, 2.5), dpi=80, facecolor='w', edgecolor='k')\n",
    "for z, occ in enumerate(stationary_test_state_occupancies_list[model_to_plot]):\n",
    "    plt.bar(z, occ, width = 0.8, color = cols[z])\n",
    "plt.ylim((0, 1))\n",
    "plt.xticks(range(num_states_2plot), range(num_states_2plot), fontsize = 10)\n",
    "plt.yticks([0, 0.5, 1], ['0', '0.5', '1'], fontsize=10)\n",
    "plt.xlabel('state', fontsize = 15)\n",
    "plt.ylabel('frac. occupancy', fontsize=15)\n",
    "plt.title('Standard HMM')"
   ]
  },
  {
   "cell_type": "code",
   "execution_count": 59,
   "metadata": {},
   "outputs": [
    {
     "data": {
      "text/plain": [
       "Text(0.5, 1.0, 'Generative transition matrix - Standard')"
      ]
     },
     "execution_count": 59,
     "metadata": {},
     "output_type": "execute_result"
    },
    {
     "data": {
      "image/png": "[encoded data removed]",
      "text/plain": [
       "<Figure size 640x240 with 1 Axes>"
      ]
     },
     "metadata": {},
     "output_type": "display_data"
    }
   ],
   "source": [
    "#plot transition matrix\n",
    "num_states_2plot = 4\n",
    "model_to_plot = (num_states_2plot-1) #remember, 0 indexed\n",
    "\n",
    "gen_weights = stationary_model_list[model_to_plot].observations.params #select correct model whether in list, or just test_glmhmm\n",
    "gen_trans_mat = stationary_model_list[model_to_plot].transitions.params #select correct model whether in list, or just test_glmhmm\n",
    "\n",
    "\n",
    "# Plot generative parameters:\n",
    "fig = plt.figure(figsize=(8, 3), dpi=80, facecolor='w', edgecolor='k')\n",
    "\n",
    "plt.subplot(1, 2, 1)\n",
    "gen_trans_mat = np.exp(gen_trans_mat)[0]\n",
    "plt.imshow(gen_trans_mat, vmin=-0.8, vmax=1, cmap='bone')\n",
    "for i in range(gen_trans_mat.shape[0]):\n",
    "    for j in range(gen_trans_mat.shape[1]):\n",
    "        text = plt.text(j, i, str(np.around(gen_trans_mat[i, j], decimals=2)), ha=\"center\", va=\"center\",\n",
    "                        color=\"k\", fontsize=12)\n",
    "plt.xlim(-0.5, num_states_2plot - 0.5)\n",
    "plt.xticks(range(0, num_states_2plot), range(num_states_2plot), fontsize=10)\n",
    "plt.yticks(range(0, num_states_2plot), range(num_states_2plot), fontsize=10)\n",
    "plt.ylim(num_states_2plot - 0.5, -0.5)\n",
    "plt.ylabel(\"state t\", fontsize = 15)\n",
    "plt.xlabel(\"state t+1\", fontsize = 15)\n",
    "plt.title(\"Generative transition matrix - Standard\", fontsize = 15)"
   ]
  },
  {
   "cell_type": "code",
   "execution_count": null,
   "metadata": {},
   "outputs": [],
   "source": []
  },
  {
   "cell_type": "markdown",
   "metadata": {},
   "source": [
    "## 3. We've been looping through a list of states, but we can also just select a single state and run the model on it"
   ]
  },
  {
   "cell_type": "markdown",
   "metadata": {},
   "source": [
    "### 3a. Fit GLM-HMM and perform recovery analysis -- this should come after the model selection section above"
   ]
  },
  {
   "cell_type": "code",
   "execution_count": null,
   "metadata": {},
   "outputs": [],
   "source": [
    "# Data inputs \n",
    "choices = train_data['Decision'].to_numpy()\n",
    "choices = choices.reshape(-1, 1)\n",
    "choices = choices.astype(int)\n",
    "\n",
    "inpts = train_data_x.to_numpy()\n",
    "\n",
    "# Model Inputs\n",
    "num_states = 3 # number of discrete states\n",
    "obs_dim =  1 # number of observed dimensions, 1 for just reward, 2 if you had something like reaction time\n",
    "num_categories = 2 # number of categories for the output\n",
    "input_dim = inpts.shape[1]"
   ]
  },
  {
   "cell_type": "code",
   "execution_count": null,
   "metadata": {},
   "outputs": [],
   "source": [
    "new_glmhmm = ssm.HMM(num_states, obs_dim, input_dim, observations=\"input_driven_obs\", \n",
    "                   observation_kwargs=dict(C=num_categories), transitions=\"standard\") # transitions usually standard\n"
   ]
  },
  {
   "cell_type": "code",
   "execution_count": null,
   "metadata": {},
   "outputs": [],
   "source": [
    "## perform cross-validation\n",
    "from ssm import model_selection\n",
    "test_scores, train_scores = ssm.model_selection.cross_val_scores(new_glmhmm, choices, inpts, heldout_frac=0.1, n_repeats=5, verbose=True)"
   ]
  },
  {
   "cell_type": "code",
   "execution_count": null,
   "metadata": {},
   "outputs": [],
   "source": [
    "N_iters = 200 # maximum number of EM iterations. Fitting with stop earlier if increase in LL is below tolerance specified by tolerance parameter\n",
    "fit_ll = new_glmhmm.fit(choices, inputs=inpts, method='em', num_iters=N_iters, tolerance=10**-4) #method=\"em\",\n",
    "print(\"EM converged: \", fit_ll)"
   ]
  },
  {
   "cell_type": "code",
   "execution_count": null,
   "metadata": {},
   "outputs": [],
   "source": [
    "#fit to test data\n",
    "test_choices = test_data['Decision'].to_numpy()\n",
    "test_choices = test_choices.reshape(-1, 1)\n",
    "test_choices = test_choices.astype(int)\n",
    "\n",
    "test_inpts = test_data_x.to_numpy()\n",
    "\n",
    "test_ll = new_glmhmm.log_likelihood(test_choices, inputs=test_inpts)\n",
    "print(\"Test LL: \", test_ll)"
   ]
  },
  {
   "cell_type": "code",
   "execution_count": null,
   "metadata": {},
   "outputs": [],
   "source": [
    "#normalize the log likelihood\n",
    "norm_ll = [s / num_trials_per_train_sess for s in fit_ll if s is not None]\n",
    "norm_test = test_ll / num_trials_per_test_sess"
   ]
  },
  {
   "cell_type": "code",
   "execution_count": null,
   "metadata": {},
   "outputs": [],
   "source": [
    "# Plot the log probabilities of the train and test models. Fit model final LL should be greater \n",
    "# than or equal to true LL.\n",
    "\n",
    "fig = plt.figure(figsize=(4, 3), dpi=80, facecolor='w', edgecolor='k')\n",
    "plt.plot(norm_ll, label=\"EM\")\n",
    "plt.plot([0, len(norm_ll)], norm_test * np.ones(2), ':k', label=\"Test\")\n",
    "plt.legend(loc=\"lower right\")\n",
    "plt.xlabel(\"EM Iteration\")\n",
    "plt.xlim(0, len(fit_ll))\n",
    "plt.ylabel(\"Log Probability\")\n",
    "plt.show()"
   ]
  },
  {
   "cell_type": "markdown",
   "metadata": {},
   "source": [
    "### 3b. Posterior State Probabilities"
   ]
  },
  {
   "cell_type": "markdown",
   "metadata": {},
   "source": [
    "Let's now plot $p(z_{t} = k|\\mathbf{y}, \\{u_{t}\\}_{t=1}^{T})$, the posterior state probabilities, which give the probability of the animal being in state k at trial t."
   ]
  },
  {
   "cell_type": "code",
   "execution_count": null,
   "metadata": {},
   "outputs": [],
   "source": [
    "T = inpts.shape[0] # number of trials\n",
    "K = 2 # number of latent states\n",
    "C = 2 # number of observation classes or # C represents the binary choice the animal must make\n",
    "D = inpts.shape[1] # number of GLM inputs (regressors)\n",
    "\n",
    "# # Get expected states:\n",
    "posterior_probs = [new_glmhmm.expected_states(data=data, input=inpt)[0]\n",
    "                for data, inpt\n",
    "                in zip([choices], [inpts])]"
   ]
  },
  {
   "cell_type": "code",
   "execution_count": null,
   "metadata": {},
   "outputs": [],
   "source": [
    "trials_to_plot = (0, 300) # number of trials to plot\n",
    "\n",
    "cols = ['#ff7f00', '#4daf4a', '#377eb8']\n",
    "fig = plt.figure(figsize=(10, 2.5), dpi=80, facecolor='w', edgecolor='k')\n",
    "sess_id = 0 #session id; can choose any index between 0 and num_sess-1\n",
    "for k in range(num_states):\n",
    "    plt.plot(posterior_probs[sess_id][:, k], label=\"State \" + str(k + 1), lw=2,\n",
    "             color=cols[k])\n",
    "plt.ylim((-0.01, 1.01))\n",
    "plt.yticks([0, 0.5, 1], fontsize = 10)\n",
    "plt.xlim(trials_to_plot) \n",
    "plt.xlabel(\"trial #\", fontsize = 15)\n",
    "\n",
    "plt.ylabel(\"p(state)\", fontsize = 15)"
   ]
  },
  {
   "cell_type": "code",
   "execution_count": null,
   "metadata": {},
   "outputs": [],
   "source": [
    "# concatenate posterior probabilities across sessions\n",
    "posterior_probs_concat = np.concatenate(posterior_probs)\n",
    "# get state with maximum posterior probability at particular trial:\n",
    "state_max_posterior = np.argmax(posterior_probs_concat, axis = 1)\n",
    "# now obtain state fractional occupancies:\n",
    "_, state_occupancies = np.unique(state_max_posterior, return_counts=True)\n",
    "state_occupancies = state_occupancies/np.sum(state_occupancies)"
   ]
  },
  {
   "cell_type": "code",
   "execution_count": null,
   "metadata": {},
   "outputs": [],
   "source": [
    "fig = plt.figure(figsize=(2, 2.5), dpi=80, facecolor='w', edgecolor='k')\n",
    "for z, occ in enumerate(state_occupancies):\n",
    "    plt.bar(z, occ, width = 0.8, color = cols[z])\n",
    "plt.ylim((0, 1))\n",
    "plt.xticks([0, 1, 2], ['1', '2', '3'], fontsize = 10)\n",
    "plt.yticks([0, 0.5, 1], ['0', '0.5', '1'], fontsize=10)\n",
    "plt.xlabel('state', fontsize = 15)\n",
    "plt.ylabel('frac. occupancy', fontsize=15)"
   ]
  },
  {
   "cell_type": "code",
   "execution_count": null,
   "metadata": {},
   "outputs": [],
   "source": [
    "model_gen_weights = new_glmhmm.observations.params\n",
    "\n",
    "#Plot the weights for each input regressor against each state\n",
    "fig = plt.figure(figsize=(7, 2.5), dpi=80, facecolor='w', edgecolor='k')\n",
    "for k in range(num_states):\n",
    "    plt.plot(model_gen_weights[k,0,:], label=\"State \" + str(k + 1), lw=2,\n",
    "             color=cols[k], marker = 'o', markersize = 5)\n",
    "plt.legend(loc=\"lower right\")\n",
    "plt.xticks(np.arange(len(x_cols)), x_cols, rotation=45, fontsize = 10)\n",
    "plt.ylabel(\"GLM weight\", fontsize = 15)\n",
    "plt.xlabel(\"Inputs\", fontsize = 15)\n",
    "plt.xlim((0, len(x_cols)))\n"
   ]
  },
  {
   "cell_type": "code",
   "execution_count": null,
   "metadata": {},
   "outputs": [],
   "source": [
    "num_states_2plot = num_states\n",
    "gen_weights = new_glmhmm.observations.params #select correct model whether in list, or just test_glmhmm\n",
    "gen_trans_mat = new_glmhmm.transitions.params #select correct model whether in list, or just test_glmhmm\n",
    "\n",
    "\n",
    "# Plot generative parameters:\n",
    "fig = plt.figure(figsize=(8, 3), dpi=80, facecolor='w', edgecolor='k')\n",
    "\n",
    "plt.subplot(1, 2, 1)\n",
    "gen_trans_mat = np.exp(gen_trans_mat)[0]\n",
    "plt.imshow(gen_trans_mat, vmin=-0.8, vmax=1, cmap='bone')\n",
    "for i in range(gen_trans_mat.shape[0]):\n",
    "    for j in range(gen_trans_mat.shape[1]):\n",
    "        text = plt.text(j, i, str(np.around(gen_trans_mat[i, j], decimals=2)), ha=\"center\", va=\"center\",\n",
    "                        color=\"k\", fontsize=12)\n",
    "plt.xlim(-0.5, num_states_2plot - 0.5)\n",
    "plt.xticks(range(0, num_states_2plot), range(num_states_2plot), fontsize=10)\n",
    "plt.yticks(range(0, num_states_2plot), range(num_states_2plot), fontsize=10)\n",
    "plt.ylim(num_states_2plot - 0.5, -0.5)\n",
    "plt.ylabel(\"state t\", fontsize = 15)\n",
    "plt.xlabel(\"state t+1\", fontsize = 15)\n",
    "plt.title(\"Generative transition matrix\", fontsize = 15)"
   ]
  },
  {
   "cell_type": "code",
   "execution_count": null,
   "metadata": {},
   "outputs": [],
   "source": [
    "train_data.loc[:, 'State_Occupancy'] = state_max_posterior # State_Max_Posterior contains the state for each given trial \n",
    "\n",
    "#save new csv\n",
    "#filtered_data.to_csv(r'C:\\Users\\janet\\Documents\\Behavior_samp_data\\FullMerged_2nBack_100423.csv', index=True)"
   ]
  },
  {
   "cell_type": "code",
   "execution_count": null,
   "metadata": {},
   "outputs": [],
   "source": []
  }
 ],
 "metadata": {
  "kernelspec": {
   "display_name": "sabatini-glm",
   "language": "python",
   "name": "python3"
  },
  "language_info": {
   "codemirror_mode": {
    "name": "ipython",
    "version": 3
   },
   "file_extension": ".py",
   "mimetype": "text/x-python",
   "name": "python",
   "nbconvert_exporter": "python",
   "pygments_lexer": "ipython3",
   "version": "3.9.18"
  }
 },
 "nbformat": 4,
 "nbformat_minor": 2
}
